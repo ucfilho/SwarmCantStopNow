{
  "nbformat": 4,
  "nbformat_minor": 0,
  "metadata": {
    "colab": {
      "name": "ABCOptmi_filter_B1_pop_500_ite_5000_RTC.ipynb",
      "provenance": [],
      "collapsed_sections": [],
      "include_colab_link": true
    },
    "kernelspec": {
      "name": "python3",
      "display_name": "Python 3"
    }
  },
  "cells": [
    {
      "cell_type": "markdown",
      "metadata": {
        "id": "view-in-github",
        "colab_type": "text"
      },
      "source": [
        "<a href=\"https://colab.research.google.com/github/ucfilho/SwarmCantStopNow/blob/main/Conference_2021/ABCOptmi_filter_B1_pop_500_ite_5000_RTC.ipynb\" target=\"_parent\"><img src=\"https://colab.research.google.com/assets/colab-badge.svg\" alt=\"Open In Colab\"/></a>"
      ]
    },
    {
      "cell_type": "code",
      "metadata": {
        "id": "Q4rxtjKKCSVZ"
      },
      "source": [
        "import numpy as np\n",
        "from random import randint\n",
        "import pandas as pd\n",
        "import matplotlib.pyplot as plt\n",
        "import time"
      ],
      "execution_count": 1,
      "outputs": []
    },
    {
      "cell_type": "code",
      "metadata": {
        "id": "NgnZ_LGAoTdO"
      },
      "source": [
        "def buildMatriz(x):\n",
        "  global Trocas, tempInicial, tempAtual \n",
        "  NPAR=1\n",
        "  cols=len(tempInicial)\n",
        "  size=3*cols\n",
        "  x=np.array(x).reshape(1,size)\n",
        "  # print('x=');print(x)\n",
        "  Ind_I=np.zeros((NPAR,Trocas)).astype(np.int64)\n",
        "  Ind_J=np.zeros((NPAR,Trocas)).astype(np.int64)\n",
        "  Tin=np.zeros((NPAR,Trocas))\n",
        "  Tout=np.zeros((NPAR,Trocas))\n",
        "  deltaT=np.zeros((NPAR,Trocas))\n",
        "  for i in range(NPAR):\n",
        "    for j in range(Trocas):\n",
        "      #print('[i,j]=%d %d'%(i,j))\n",
        "      Ind_I[i,j]=round(x[i,j])\n",
        "      Ind_J[i,j]=round(x[i,j+Trocas])\n",
        "      deltaT[i,j]=x[i,j+2*Trocas] \n",
        "    for jj in range(cols):\n",
        "      Tin[i,jj]=tempInicial[jj]\n",
        "      Tout[i,jj]=tempAtual[jj]\n",
        "  return Ind_I,Ind_J,deltaT, Tin, Tout"
      ],
      "execution_count": 2,
      "outputs": []
    },
    {
      "cell_type": "code",
      "metadata": {
        "id": "luXdMO8Kod-a"
      },
      "source": [
        "def Temperatura(x):\n",
        "  global Trocas, mCp,tempInicial\n",
        "  \n",
        "  NPAR=1\n",
        "  Ind_I,Ind_J,deltaT,Tin, Tout=buildMatriz(x) \n",
        "  Tatual=np.copy(np.array(tempInicial))\n",
        "\n",
        "  erro=np.zeros((NPAR)) # valor erro se torna erro=1 quando ha algum erro e vai penalizar\n",
        "  for ki in range(NPAR):\n",
        "    for kj in range(Trocas):\n",
        "      #Tin=np.copy(Tout)\n",
        "      k=kj\n",
        "      i=Ind_I[ki,kj]\n",
        "      j=Ind_J[ki,kj]\n",
        "      \n",
        "      tempSaidaQ=Tout[ki,i]+deltaT[ki,kj]\n",
        "      tempSaidaF=-mCp[kj]*deltaT[ki,kj]/(mCp[j])+Tout[ki,j]\n",
        "      flag=0 # flag : indica que nao entra no teste logico\n",
        "      # usei flag no lugar q ifs pq a identacao ficou melhor assim\n",
        "      if(Tout[ki,i] > Tout[ki,j]): #Tquente maior Tfria: vaores atuais\n",
        "        if(tempSaidaQ > tempSaidaF): #Tquente maior Tfria: saidas\n",
        "          flag=1\n",
        "      if(flag>0):\n",
        "        Tout[ki,i]=tempSaidaQ\n",
        "        Tout[ki,j]=tempSaidaF\n",
        "      else:\n",
        "        erro[ki]=1\n",
        "\n",
        "  return Tout,erro"
      ],
      "execution_count": 3,
      "outputs": []
    },
    {
      "cell_type": "code",
      "metadata": {
        "id": "Q31KO33Xogh-"
      },
      "source": [
        "def Area(x):\n",
        "\n",
        "  global mCp,tempAlvo,tempInicial,Trocas,U\n",
        "  \n",
        "  NPAR=1\n",
        "  \n",
        "  Area=[]\n",
        "\n",
        "  Ind_I,Ind_J,deltaT,Tin, Tout=buildMatriz(x) \n",
        "  Tatual=np.copy(np.array(tempInicial))\n",
        "\n",
        "  rows=Trocas \n",
        "  cols=len(mCp)\n",
        "\n",
        "  Area_Particula=[]\n",
        "\n",
        "  for k in range(Trocas):\n",
        "\n",
        "    i=Ind_I[0,k]\n",
        "    j=Ind_J[0,k]\n",
        "    tempSaidaQ=Tatual[i]+deltaT[0,k]\n",
        "    tempSaidaF=-deltaT[0,k]*mCp[i]/(mCp[j])+Tatual[j]\n",
        "\n",
        "    Told_i=Tatual[i]\n",
        "    Told_j=Tatual[j]\n",
        "\n",
        "    Tatual[i]=np.copy(tempSaidaQ)\n",
        "    Tatual[j]=np.copy(tempSaidaF)\n",
        "    deltaT1=Tatual[i]-tempSaidaF\n",
        "    deltaT2=tempSaidaQ-Tatual[j]\n",
        "    try:\n",
        "      A=(deltaT1-deltaT2)\n",
        "      B=np.log((deltaT1/deltaT2))\n",
        "      deltaTMediaLog=A/B\n",
        "    except:\n",
        "      deltaTMediaLog=1e99\n",
        "  \n",
        "    if(deltaTMediaLog==1e99):\n",
        "      AreaCalc=1e99\n",
        "    else:\n",
        "      AreaCalc=abs(deltaT[0,k]*mCp[i]/(U*deltaTMediaLog))\n",
        "\n",
        "    if(Told_i==Tatual[i]):\n",
        "      AreaCalc=0\n",
        "\n",
        "    if(Told_j==Tatual[j]):\n",
        "      AreaCalc=0\n",
        "\n",
        "      Area_Particula.append(AreaCalc)\n",
        "      \n",
        "  Area.append(Area_Particula)\n",
        "\n",
        "  return Area"
      ],
      "execution_count": 4,
      "outputs": []
    },
    {
      "cell_type": "code",
      "metadata": {
        "id": "BiPiBVsGoqxR"
      },
      "source": [
        "def Utilidades(tempAlvo,Tout,mCp):\n",
        "\n",
        "  cols=len(mCp)\n",
        "  NPAR=1\n",
        "\n",
        "  \n",
        "  '''\n",
        "  caso I cita TUQin=553 e TQout=552, TUFin=303 TUFout=353\n",
        "  '''\n",
        "  \n",
        "  TUQin=553\n",
        "  TUQout=552\n",
        "  TUFin=303 \n",
        "  TUFout=353\n",
        "  \n",
        "  Areas=[]\n",
        "  cargaUQtodas=[]\n",
        "  cargaUFtodas=[]\n",
        "\n",
        "  for ki in range(NPAR):\n",
        "    areaTrocador=[]\n",
        "    cargaUQ=0\n",
        "    cargaUF=0\n",
        "    for j in range(cols):\n",
        "      delta=tempAlvo[j]-Tout[ki,j]\n",
        "      if(delta>0):#usa UQ\n",
        "        cargaUQ=cargaUQ+mCp[j]*delta\n",
        "        deltaT1=(TUQin-tempAlvo[j])\n",
        "        deltaT2=(TUQout-Tout[ki,j])\n",
        "\n",
        "        try:\n",
        "          A=deltaT1-deltaT2\n",
        "          B=np.log(deltaT1/deltaT2)\n",
        "          deltaTMediaLog=A/B\n",
        "        except:\n",
        "          deltaTMediaLog=1e99\n",
        "\n",
        "        if(deltaTMediaLog==1e99):\n",
        "          areaTrocador.append(1e99)\n",
        "        else:\n",
        "          areaTrocador.append((abs(mCp[j]*(delta)/(U*deltaTMediaLog))))\n",
        "\n",
        "      elif(delta==0):#nao usa UF e UQ\n",
        "        deltaTMediaLog=0\n",
        "        areaTrocador.append(0) \n",
        "\n",
        "      else:#usa UF\n",
        "        deltaT1=(Tout[ki,j]-TUFout)\n",
        "        deltaT2=(tempAlvo[j]-TUFin)     \n",
        "        cargaUF=cargaUF+mCp[j]*(-delta)\n",
        "\n",
        "        #UF -> água resfriada -> entra a 303K e sai a 353K\n",
        "        try:\n",
        "          A=deltaT1-deltaT2\n",
        "          B=np.log(deltaT1/deltaT2)\n",
        "          deltaTMediaLog=A/B\n",
        "        except:\n",
        "          deltaTMediaLog=1e99\n",
        "        \n",
        "        if(deltaTMediaLog==1e99):\n",
        "          areaTrocador.append(1e99)\n",
        "        else:\n",
        "          areaTrocador.append((abs(mCp[j]*(-delta)/(U*deltaTMediaLog))))\n",
        "\n",
        "    cargaUQtodas.append(cargaUQ)\n",
        "    cargaUFtodas.append(cargaUF)\n",
        "\n",
        "    Areas.append(areaTrocador)\n",
        "\n",
        "  return Areas, cargaUQtodas,cargaUFtodas"
      ],
      "execution_count": 5,
      "outputs": []
    },
    {
      "cell_type": "code",
      "metadata": {
        "id": "yv0mU33EoyS2"
      },
      "source": [
        "def CustoProcesso(Area,Utilidades,cargaUFtodas,cargaUQtodas):\n",
        "  global coefCustoUQ,coefCustoUF\n",
        "  \n",
        "  NPAR=1\n",
        "\n",
        "  cost=np.zeros((NPAR))\n",
        "  for i in range(NPAR):\n",
        "    cargaUQ=cargaUQtodas[i]\n",
        "    cargaUF=cargaUFtodas[i]\n",
        "    areaTrocadores=Area[i]\n",
        "    areaUtilidades=Utilidades[i]\n",
        "    costTrocadores=0\n",
        "    for it in areaTrocadores:\n",
        "      for wii in areaUtilidades:\n",
        "        if(it<1e99):\n",
        "          if(wii<1e99):\n",
        "            costTrocadores=costTrocadores+300*(it**0.5+wii**0.5)\n",
        "          else:\n",
        "            costTrocadores=1e99\n",
        "            break\n",
        "    costUQ=coefCustoUQ*cargaUQ\n",
        "    costUF=coefCustoUF*cargaUF\n",
        "    \n",
        "    if(costTrocadores==1e99):\n",
        "      cost[i]=1e99\n",
        "    else:\n",
        "      cost[i]=costUQ+costUF+costTrocadores\n",
        "      \n",
        "  return cost"
      ],
      "execution_count": 6,
      "outputs": []
    },
    {
      "cell_type": "code",
      "metadata": {
        "id": "NbYoC55Vo4Hf"
      },
      "source": [
        "def Numb(x):\n",
        "  global mCp,tempAlvo,tempInicial,Trocas\n",
        "\n",
        "  Ind_I,Ind_J,deltaT,Tin, Tout=buildMatriz(x) # transforma x em matriz logica e troca\n",
        "  Tatual=np.copy(np.array(tempInicial))\n",
        "\n",
        "  rows=Trocas \n",
        "  cols=len(mCp)\n",
        "  Ttrocas=np.zeros((rows+4,cols))# feito em quaduplicata so para melhorar o visual\n",
        "  for i in range(2):\n",
        "    for j in range(cols):\n",
        "      Ttrocas[i,j]=np.copy(Tatual[j])\n",
        "  cont=1\n",
        "  #Ttrocas.append(Tatual)\n",
        "  #Ttrocas.append(Tatual) # feito em duplicata so para melhorar o visual\n",
        "  for k in range(Trocas):\n",
        "    cont=cont+1\n",
        "    i=Ind_I[0,k]\n",
        "    j=Ind_J[0,k]\n",
        "    tempSaidaQ=Tatual[i]+deltaT[0,k]\n",
        "    tempSaidaF=-deltaT[0,k]*mCp[i]/(mCp[j])+Tatual[j]\n",
        "    Tatual[i]=np.copy(tempSaidaQ)\n",
        "    Tatual[j]=np.copy(tempSaidaF)\n",
        "\n",
        "    for jj in range(cols):\n",
        "      Ttrocas[cont,jj]=Tatual[jj]  \n",
        "\n",
        "\n",
        "  for jj in range(cols): # feito em duplicata so para melhorar o visual\n",
        "    Ttrocas[cont+1,jj]=tempAlvo[jj]\n",
        "    Ttrocas[cont+2,jj]=tempAlvo[jj]\n",
        "\n",
        "  \n",
        "  return Ttrocas"
      ],
      "execution_count": 7,
      "outputs": []
    },
    {
      "cell_type": "code",
      "metadata": {
        "id": "G0W8a9Bao9WB"
      },
      "source": [
        "#FUN calcula o TAC para um determinado arranjo\n",
        "#  cada calculo é feito em uma funcao a parte Fun usa todas funcoes \n",
        "\n",
        "def FUN(x):\n",
        "\n",
        "  global mCp,tempAtual,tempAlvo,tempInicial,U,coefCustoUQ,coefCustoUF\n",
        "  \n",
        "  NPAR=1\n",
        "  \n",
        "  funr=np.zeros((NPAR))\n",
        "  cols=len(mCp)\n",
        "  Ind_I,Ind_J,deltaT, Tin, Tout=buildMatriz(x) # transforma x em matriz logica e troca\n",
        "  Tout, Erro=Temperatura(x)\n",
        "  areaTrocadores =Area(x)\n",
        "  areaUtilidade, cargaUQ,cargaUF = Utilidades(tempAlvo,Tout,mCp)\n",
        "  cost=CustoProcesso(areaTrocadores,areaUtilidade,cargaUF,cargaUQ)\n",
        "  funr=cost\n",
        "\n",
        "  for k in range(NPAR):\n",
        "    if(Erro[k]>0):\n",
        "      funr[k]=1e99\n",
        "  funr = np.where(np.isnan(cost), 1e99, cost)\n",
        "  \n",
        "  # print(funr)\n",
        "\n",
        "  return funr"
      ],
      "execution_count": 8,
      "outputs": []
    },
    {
      "cell_type": "code",
      "metadata": {
        "id": "-JUuI-X8pFZ5"
      },
      "source": [
        "#********************PROGRAMA PRINCIPAL*************************\n",
        "\n",
        "Trocas=4\n",
        "mCp=[4,2,1.5,3] #[kW/K]\n",
        "tempInicial=[453.0,393.0,523.0,533.0] #[K]\n",
        "tempAtual=np.copy(tempInicial) \n",
        "#tempAtual=[453,393,523,533] #[K]\n",
        "tempAlvo=[513.0,508.0,403.0,433.0] #[K]\n",
        "U=0.2 #[kW/(m2.K)]\n",
        "coefCustoUQ=110 #[$/(kW.ano)]\n",
        "coefCustoUF=12.2 #[$/(kW.ano)]\n",
        "\n"
      ],
      "execution_count": 9,
      "outputs": []
    },
    {
      "cell_type": "code",
      "metadata": {
        "id": "PWIY1PGq9Is1"
      },
      "source": [
        "def CalcFit(fun):\n",
        "    result=0\n",
        "    if(fun>=0):\n",
        "      result=1/(fun+1)\n",
        "    else:\n",
        "      result=1+fabs(fun)\n",
        "    return result"
      ],
      "execution_count": 10,
      "outputs": []
    },
    {
      "cell_type": "code",
      "metadata": {
        "id": "f8H99CS9AOoB",
        "colab": {
          "base_uri": "https://localhost:8080/",
          "height": 52
        },
        "outputId": "55854f27-3976-411c-a89c-3f7be4c76d97"
      },
      "source": [
        "function = FUN\n",
        "\n",
        "'''\n",
        "def function( sol):\n",
        "  #Schwefel(x):\n",
        "  x=sol  \n",
        "  summ=0\n",
        "  for i in range(len(x)):\n",
        "    new=x[i]*np.sin((abs(x[i]))**0.5)\n",
        "    summ=summ+new\n",
        "    top=(418.9829*len(x)-summ) \n",
        "  \n",
        "  return top;\n",
        "'''\n"
      ],
      "execution_count": 11,
      "outputs": [
        {
          "output_type": "execute_result",
          "data": {
            "application/vnd.google.colaboratory.intrinsic+json": {
              "type": "string"
            },
            "text/plain": [
              "'\\ndef function( sol):\\n  #Schwefel(x):\\n  x=sol  \\n  summ=0\\n  for i in range(len(x)):\\n    new=x[i]*np.sin((abs(x[i]))**0.5)\\n    summ=summ+new\\n    top=(418.9829*len(x)-summ) \\n  \\n  return top;\\n'"
            ]
          },
          "metadata": {},
          "execution_count": 11
        }
      ]
    },
    {
      "cell_type": "code",
      "metadata": {
        "id": "sNZ4ruzv-La8"
      },
      "source": [
        "def BestSource(GlobMin,GlobPars,Foods):\n",
        "  FoodNumber=len(Foods[:,0])\n",
        "  D=len(Foods[0,:])\n",
        "  solution=np.zeros(D)\n",
        "  for i in range(FoodNumber):\n",
        "    if (f[i]<GlobMin):\n",
        "      GlobMin=f[i]\n",
        "      for j in range(D):\n",
        "        GlobPars[j]=Foods[i,j]\n",
        "  return GlobMin,GlobPars,Foods"
      ],
      "execution_count": 12,
      "outputs": []
    },
    {
      "cell_type": "code",
      "metadata": {
        "id": "ckFKKQdNAVO1"
      },
      "source": [
        "def init(index,Foods,trial,f,fitness,MIN,MAX):\n",
        "  D=len(Foods[0,:])\n",
        "  FoodNumber=len(Foods[:,0])\n",
        "  solution=np.zeros(D)\n",
        "  for j in range(D):\n",
        "    r=np.random.random()\n",
        "    Foods[index,j]=r*(MAX[j]-MIN[j])+MIN[j]\n",
        "    solution[j]=Foods[index,j]\n",
        "    \n",
        "  f[index]=function(solution)\n",
        "  fitness[index]=CalcFit(f[index])\n",
        "  trial[index]=0\n",
        "  \n",
        "  return Foods,trial,f,fitness"
      ],
      "execution_count": 13,
      "outputs": []
    },
    {
      "cell_type": "code",
      "metadata": {
        "id": "Nbr0xLBdITa5"
      },
      "source": [
        "def initial(fitness,trial,f,Foods,GlobMin,GlobPars,MIN,MAX):\n",
        "  D=len(Foods[0,:])\n",
        "  FoodNumber=len(Foods[:,0])\n",
        "  for i in range(FoodNumber):\n",
        "    Foods,trial,f,fitness=init(i,Foods,trial,f,fitness,MIN,MAX) \n",
        "  GlobMin=f[0]\n",
        "  for i in range(D):\n",
        "    GlobPars[i]=Foods[0,i]\n",
        "  return  f,Foods,GlobMin,GlobPars\n"
      ],
      "execution_count": 14,
      "outputs": []
    },
    {
      "cell_type": "code",
      "metadata": {
        "id": "Jsfc_Dr5MmuX"
      },
      "source": [
        "def EmployedBees(trial,Foods,MIN,MAX):\n",
        "  FoodNumber=len(Foods[:,0])\n",
        "  NP=FoodNumber\n",
        "  D=len(Foods[0,:])\n",
        "  solution=np.zeros(D)\n",
        "  for i in range(FoodNumber):\n",
        "    r = np.random.random()\n",
        "    par2chan= int(r*D)\n",
        "    r = np.random.random()\n",
        "    neighbour=int(r*D)\n",
        "    if(neighbour >= NP):\n",
        "      neighbour=NP-1\n",
        "      \n",
        "    while(neighbour==i):\n",
        "      r = np.random.random()\n",
        "      neighbour=int(r*FoodNumber)\n",
        "      if(neighbour >= NP):\n",
        "        neighbour=NP-1\n",
        "    for j in range(D):\n",
        "      solution[j]=Foods[i,j]\n",
        "\n",
        "    r = np.random.random()\n",
        "    A=Foods[i,par2chan]\n",
        "    B=Foods[neighbour,par2chan]\n",
        "    solution[par2chan]=Foods[i,par2chan]+(A-B)*(r-0.5)*2;\n",
        "    if (solution[par2chan]<MIN[par2chan]):\n",
        "      solution[par2chan]=MIN[par2chan]\n",
        "    if (solution[par2chan]>MAX[par2chan]):\n",
        "      solution[par2chan]=MAX[par2chan]\n",
        "    ObjValSol=function(solution)\n",
        "    FitnessSol=CalcFit(ObjValSol)\n",
        "    \n",
        "    if(FitnessSol>fitness[i]):\n",
        "      trial[i]=0\n",
        "      for j in range(D):\n",
        "        Foods[i,j]=solution[j]\n",
        "      f[i]=ObjValSol\n",
        "      fitness[i]=FitnessSol\n",
        "    else:\n",
        "      trial[i]=trial[i]+1 \n",
        "      \n",
        "  return trial,Foods"
      ],
      "execution_count": 15,
      "outputs": []
    },
    {
      "cell_type": "code",
      "metadata": {
        "id": "yibq0wsUThgD"
      },
      "source": [
        "def CalcProb(fitness,prob):\n",
        "  FoodNumber=len(fitness)\n",
        "  maxfit=fitness[0]\n",
        "  for i in range(1,FoodNumber):    \n",
        "    if (fitness[i]>maxfit):\n",
        "      maxfit=fitness[i]\n",
        "  for i in range(FoodNumber):\n",
        "    prob[i]=(0.9*(fitness[i]/maxfit))+0.1\n",
        "  return fitness,prob\n"
      ],
      "execution_count": 16,
      "outputs": []
    },
    {
      "cell_type": "code",
      "metadata": {
        "id": "RRHG1BVqiNaZ"
      },
      "source": [
        "def OnlookerBees(trial,Foods,MIN,MAX):\n",
        "  D=len(Foods[0,:])\n",
        "  solution=np.zeros(D)\n",
        "  FoodNumber=len(Foods[:,0])\n",
        "  i=0\n",
        "  t=0\n",
        "  while(t<FoodNumber):\n",
        "    r = np.random.random()\n",
        "    if(r<prob[i]): \n",
        "      r = np.random.random()\n",
        "      t=t+1\n",
        "      par2chan=int(r*D)\n",
        "      r = np.random.random()\n",
        "      neighbour=int(r*FoodNumber)\n",
        "\n",
        "      while(neighbour==i):\n",
        "        r = np.random.random()\n",
        "        neighbour=int(r*FoodNumber)\n",
        "      for j in range(D):\n",
        "        solution[j]=Foods[i,j]\n",
        "\n",
        "      r = np.random.random()\n",
        "      A=Foods[i,par2chan]\n",
        "      B=Foods[neighbour,par2chan]\n",
        "      solution[par2chan]=A+(A-B)*(r-0.5)*2\n",
        "\n",
        "      if (solution[par2chan]<MIN[par2chan]):\n",
        "              solution[par2chan]=MIN[par2chan]\n",
        "      if (solution[par2chan]>MAX[par2chan]):\n",
        "              solution[par2chan]=MAX[par2chan]\n",
        "      ObjValSol=function(solution)\n",
        "      FitnessSol=CalcFit(ObjValSol)\n",
        "              \n",
        "      if(FitnessSol>fitness[i]):\n",
        "        trial[i]=0\n",
        "        for j in range(D):\n",
        "          Foods[i,j]=solution[j]\n",
        "        f[i]=ObjValSol\n",
        "        fitness[i]=FitnessSol\n",
        "      else:\n",
        "        trial[i]=trial[i]+1\n",
        "      i=i+1\n",
        "      if (i==FoodNumber):\n",
        "        i=0\n",
        "  return trial,Foods\n"
      ],
      "execution_count": 17,
      "outputs": []
    },
    {
      "cell_type": "code",
      "metadata": {
        "id": "lZT7tTIPRNz4"
      },
      "source": [
        "def ScoutBees(fitness,f,Foods,trial,MIN,MAX):\n",
        "  FoodNumber=len(Foods[:,0])\n",
        "  max_trial=0\n",
        "  for i in range(1,FoodNumber):\n",
        "    if (trial[i]>trial[max_trial]):\n",
        "      max_trial=i\n",
        "  if(trial[max_trial]>=limit):\n",
        "    Foods,trial,f,fitness=init(max_trial,Foods,trial,f,fitness,MIN,MAX)\n",
        "  return trial,Foods\n"
      ],
      "execution_count": 18,
      "outputs": []
    },
    {
      "cell_type": "code",
      "metadata": {
        "id": "fHwM7maM7L7K"
      },
      "source": [
        "'''/*Main program of the ABC algorithm*/'''\n",
        "\n",
        "NPAR=500 #Numero de fontes de comida\n",
        "ITE=5000 #ITERACOES (maxCycle)\n",
        "\n",
        "MAX= [3,3,3,3,1,1,1,1,0,0,0,0] \n",
        "MIN= [2,2,2,2,0,0,0,0,-100,-100,-100,-100]\n",
        "PAR=len(MAX) #NUM DE PARAMETROS A SER OTIMIZADOS\n",
        "limit=100 # quantas vezes obtem resposta identica antes de encerrar \n",
        "runtime=3 # quantas vezes vai rodar para tirar a media\n"
      ],
      "execution_count": 19,
      "outputs": []
    },
    {
      "cell_type": "code",
      "metadata": {
        "id": "-d0dl263QRVN"
      },
      "source": [
        "\n",
        "f=np.zeros(NPAR) \n",
        "Foods=np.zeros((NPAR,PAR)) \n",
        "solution=np.zeros(PAR)\n",
        "fitness=np.zeros(NPAR)\n",
        "trial=np.zeros(NPAR)\n",
        "prob=np.zeros(NPAR)\n",
        "GlobPars=np.zeros(PAR)\n",
        "GlobMins=np.zeros(runtime)\n",
        "GlobMin=1e99\n"
      ],
      "execution_count": 20,
      "outputs": []
    },
    {
      "cell_type": "code",
      "metadata": {
        "id": "Ug2pXSkxQY8D"
      },
      "source": [
        "# rule half-half\n",
        "N_2 = int(NPAR/3)"
      ],
      "execution_count": 21,
      "outputs": []
    },
    {
      "cell_type": "code",
      "metadata": {
        "id": "8dZeaBnlQTGy"
      },
      "source": [
        "f1=f[:N_2];f2 = f[N_2:];\n",
        "Foods1=Foods[:N_2,:];Foods2=Foods[N_2:,:];\n",
        "solution1= np.zeros(PAR);solution2= np.zeros(PAR)\n",
        "fitness1=fitness[:N_2];fitness2=fitness[N_2:];\n",
        "trial1=trial[:N_2];trial2=trial[N_2:]\n",
        "prob1=prob[:N_2];prob2=prob[N_2:];\n",
        "GlobPars1=np.zeros(PAR);GlobPars2=np.zeros(PAR);\n",
        "GlobMins1=np.zeros(runtime);GlobMins2=np.zeros(runtime);\n",
        "GlobMin1=1e99;GlobMin2=1e99"
      ],
      "execution_count": 22,
      "outputs": []
    },
    {
      "cell_type": "code",
      "metadata": {
        "colab": {
          "base_uri": "https://localhost:8080/"
        },
        "id": "M4UGSsQJQMFy",
        "outputId": "e71ddbc1-30a6-446d-e7d9-227ad8736d20"
      },
      "source": [
        "initial_time = time.time()\n",
        "\n",
        "for run in range(runtime):\n",
        "  f1,Foods1,GlobMin1,GlobPars1= initial(fitness1,trial1,f1,Foods1,GlobMin1,GlobPars1,MIN,MAX)\n",
        "  GlobMin1,GlobPars1,Foods1=BestSource(GlobMin1,GlobPars1,Foods1)\n",
        "\n",
        "  f2,Foods2,GlobMin2,GlobPars2= initial(fitness2,trial2,f2,Foods2,GlobMin2,GlobPars2,MIN,MAX)\n",
        "  GlobMin2,GlobPars2,Foods2=BestSource(GlobMin2,GlobPars2,Foods2)\n",
        "\n",
        "  for iter in range(ITE):\n",
        "    trial1,Foods1=EmployedBees(trial1,Foods1,MIN,MAX);\n",
        "    trial2,Foods2=EmployedBees(trial2,Foods2,MIN,MAX)\n",
        "\n",
        "    fitness1,prob1=CalcProb(fitness1,prob1);\n",
        "    fitness2,prob2=CalcProb(fitness2,prob2)\n",
        "\n",
        "    trial1,Foods1=OnlookerBees(trial1,Foods1,MIN,MAX);\n",
        "    trial2,Foods2=OnlookerBees(trial2,Foods2,MIN,MAX)\n",
        "\n",
        "    GlobPars2_rec = GlobPars2.copy()\n",
        "    GlobPars1_rec = GlobPars1.copy()\n",
        "\n",
        "    GlobMin1,GlobPars1,Foods1=BestSource(GlobMin1,GlobPars1,Foods1);\n",
        "    GlobMin2,GlobPars2,Foods2=BestSource(GlobMin2,GlobPars2,Foods2)\n",
        "\n",
        "    trial1,Foods1=ScoutBees(fitness1,f1,Foods1,trial1,MIN,MAX)\n",
        "    trial2,Foods2=ScoutBees(fitness2,f2,Foods2,trial2,MIN,MAX)\n",
        "\n",
        "    GlobPars2_rec = GlobPars2.copy()\n",
        "    GlobPars1_rec = GlobPars1.copy()\n",
        "    \n",
        "    Foods1[0,:] = GlobPars2.copy()\n",
        "    Foods1[1,:] = GlobPars1.copy()\n",
        "\n",
        "    Foods1[2,:] = (GlobPars1+GlobPars1_rec*2.0)/3\n",
        "    \n",
        "\n",
        "    Foods2[0,:] = GlobPars2.copy()\n",
        "    Foods2[1,:] = GlobPars1.copy()\n",
        "    Foods2[2,:] = (GlobPars2+GlobPars2_rec*2.0)/3\n",
        "\n",
        "\n",
        "    if(GlobMin1 > GlobMin2):\n",
        "      GlobMin1 = GlobMin2\n",
        "    else:\n",
        "      GlobMin2 = GlobMin1\n",
        "\n",
        "\n",
        "  '''\n",
        "  for j in range(PAR):\n",
        "    print(\"GlobalParam[\",j+1,\"]:\", GlobPars1[j])\n",
        "\n",
        "  '''\n",
        "  current_time = time.time() -initial_time   \n",
        "  print(\"run\",run+1,\"time =\",current_time ,\"GBest=\",GlobMin2,\" \\n\");\n",
        "  GlobMins2[run]=GlobMin2\n",
        "\n",
        "mean=np.average(GlobMins2)\n",
        "sd_mean = np.std(GlobMins2)\n",
        "best_ans = GlobMins2.min()\n",
        "\n",
        "print(\"Means of\",runtime,\"runs:\",mean,\"\\n\")\n",
        "print(\"Best ans of\",runtime,\"runs:\",best_ans,\"\\n\")\n",
        "print(\"Deviation of\",runtime,\"runs:\",sd_mean,\"\\n\")"
      ],
      "execution_count": 23,
      "outputs": [
        {
          "output_type": "stream",
          "name": "stderr",
          "text": [
            "/usr/local/lib/python3.7/dist-packages/ipykernel_launcher.py:34: RuntimeWarning: invalid value encountered in double_scalars\n"
          ]
        },
        {
          "output_type": "stream",
          "name": "stdout",
          "text": [
            "run 1 time = 1231.9527397155762 GBest= 12875.714525943982  \n",
            "\n",
            "run 2 time = 2465.278245449066 GBest= 13129.572484128148  \n",
            "\n",
            "run 3 time = 3698.9614815711975 GBest= 13028.208998731663  \n",
            "\n",
            "Means of 3 runs: 13011.16533626793 \n",
            "\n",
            "Best ans of 3 runs: 12875.714525943982 \n",
            "\n",
            "Deviation of 3 runs: 104.33545436393022 \n",
            "\n"
          ]
        }
      ]
    },
    {
      "cell_type": "code",
      "metadata": {
        "colab": {
          "base_uri": "https://localhost:8080/"
        },
        "id": "8Bk7fGxOrBdl",
        "outputId": "04949630-c565-4f3f-9f7e-2cbaef6f5cc5"
      },
      "source": [
        "BEST = GlobPars2\n",
        "Ind_I,Ind_J,deltaT, Tin, Tout=buildMatriz(BEST)\n",
        "print(Ind_I)\n",
        "print(Ind_J)\n",
        "print(deltaT)"
      ],
      "execution_count": 24,
      "outputs": [
        {
          "output_type": "stream",
          "name": "stdout",
          "text": [
            "[[3 2 3 2]]\n",
            "[[0 0 1 1]]\n",
            "[[-39.98675123 -19.54061226 -55.86367212 -27.4230869 ]]\n"
          ]
        }
      ]
    },
    {
      "cell_type": "code",
      "metadata": {
        "colab": {
          "base_uri": "https://localhost:8080/"
        },
        "id": "x1Z2-Lq6aWHW",
        "outputId": "dcd463be-2661-470f-af43-da5a8c7f2875"
      },
      "source": [
        "Busca=Numb(BEST)\n",
        "print(pd.DataFrame(Busca))\n",
        "df=pd.DataFrame(Busca)"
      ],
      "execution_count": 25,
      "outputs": [
        {
          "output_type": "stream",
          "name": "stdout",
          "text": [
            "            0           1           2           3\n",
            "0  453.000000  393.000000  523.000000  533.000000\n",
            "1  453.000000  393.000000  523.000000  533.000000\n",
            "2  482.990063  393.000000  523.000000  493.013249\n",
            "3  490.317793  393.000000  503.459388  493.013249\n",
            "4  490.317793  476.795508  503.459388  437.149577\n",
            "5  490.317793  497.362823  476.036301  437.149577\n",
            "6  513.000000  508.000000  403.000000  433.000000\n",
            "7  513.000000  508.000000  403.000000  433.000000\n"
          ]
        }
      ]
    },
    {
      "cell_type": "code",
      "metadata": {
        "colab": {
          "base_uri": "https://localhost:8080/",
          "height": 300
        },
        "id": "LdHEFTDAFGdp",
        "outputId": "e0071e9c-568d-45a4-be7c-c72ccf06a498"
      },
      "source": [
        "Streams=4\n",
        "Change=range(Streams+4) # Streams+4 so para ficar com um visual melhor\n",
        "for k in range(Streams):\n",
        "  plt.plot(Change,df.iloc[:,k])\n",
        "plt.xlabel('Stages')\n",
        "plt.ylabel('Temperature (K)')"
      ],
      "execution_count": 26,
      "outputs": [
        {
          "output_type": "execute_result",
          "data": {
            "text/plain": [
              "Text(0, 0.5, 'Temperature (K)')"
            ]
          },
          "metadata": {},
          "execution_count": 26
        },
        {
          "output_type": "display_data",
          "data": {
            "image/png": "[encoded data removed]",
            "text/plain": [
              "<Figure size 432x288 with 1 Axes>"
            ]
          },
          "metadata": {
            "needs_background": "light"
          }
        }
      ]
    }
  ]
}