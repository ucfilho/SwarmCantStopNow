{
  "nbformat": 4,
  "nbformat_minor": 0,
  "metadata": {
    "colab": {
      "name": "ABCOptmi_from_C_language.ipynb",
      "provenance": [],
      "collapsed_sections": [],
      "include_colab_link": true
    },
    "kernelspec": {
      "name": "python3",
      "display_name": "Python 3"
    }
  },
  "cells": [
    {
      "cell_type": "markdown",
      "metadata": {
        "id": "view-in-github",
        "colab_type": "text"
      },
      "source": [
        "<a href=\"https://colab.research.google.com/github/ucfilho/SwarmCantStopNow/blob/main/Conference_2021/ABCOptmi_from_C_language.ipynb\" target=\"_parent\"><img src=\"https://colab.research.google.com/assets/colab-badge.svg\" alt=\"Open In Colab\"/></a>"
      ]
    },
    {
      "cell_type": "code",
      "metadata": {
        "id": "Q4rxtjKKCSVZ"
      },
      "source": [
        "import numpy as np\n",
        "from random import randint"
      ],
      "execution_count": null,
      "outputs": []
    },
    {
      "cell_type": "code",
      "metadata": {
        "id": "PWIY1PGq9Is1"
      },
      "source": [
        "def CalcFit(fun):\n",
        "    result=0\n",
        "    if(fun>=0):\n",
        "      result=1/(fun+1)\n",
        "    else:\n",
        "      result=1+fabs(fun)\n",
        "    return result"
      ],
      "execution_count": null,
      "outputs": []
    },
    {
      "cell_type": "code",
      "metadata": {
        "id": "f8H99CS9AOoB"
      },
      "source": [
        "def function( sol):\n",
        "  #Schwefel(x):\n",
        "  x=sol  \n",
        "  summ=0\n",
        "  for i in range(len(x)):\n",
        "    new=x[i]*np.sin((abs(x[i]))**0.5)\n",
        "    summ=summ+new\n",
        "    top=(418.9829*len(x)-summ) \n",
        "  \n",
        "  return top;\n"
      ],
      "execution_count": null,
      "outputs": []
    },
    {
      "cell_type": "code",
      "metadata": {
        "id": "sNZ4ruzv-La8"
      },
      "source": [
        "def BestSource(GlobMin,GlobPars,Foods):\n",
        "  FoodNumber=len(Foods[:,0])\n",
        "  D=len(Foods[0,:])\n",
        "  solution=np.zeros(D)\n",
        "  for i in range(FoodNumber):\n",
        "    if (f[i]<GlobMin):\n",
        "      GlobMin=f[i]\n",
        "      for j in range(D):\n",
        "        GlobPars[j]=Foods[i,j]\n",
        "  return GlobMin,GlobPars,Foods"
      ],
      "execution_count": null,
      "outputs": []
    },
    {
      "cell_type": "code",
      "metadata": {
        "id": "ckFKKQdNAVO1"
      },
      "source": [
        "def init(index,Foods,trial,f,fitness,MIN,MAX):\n",
        "  D=len(Foods[0,:])\n",
        "  FoodNumber=len(Foods[:,0])\n",
        "  solution=np.zeros(D)\n",
        "  for j in range(D):\n",
        "    r=np.random.random()\n",
        "    Foods[index,j]=r*(MAX[j]-MIN[j])+MIN[j]\n",
        "    solution[j]=Foods[index,j]\n",
        "    \n",
        "  f[index]=function(solution)\n",
        "  fitness[index]=CalcFit(f[index])\n",
        "  trial[index]=0\n",
        "  \n",
        "  return Foods,trial,f,fitness"
      ],
      "execution_count": null,
      "outputs": []
    },
    {
      "cell_type": "code",
      "metadata": {
        "id": "Nbr0xLBdITa5"
      },
      "source": [
        "def initial(fitness,trial,f,Foods,GlobMin,GlobPars,MIN,MAX):\n",
        "  D=len(Foods[0,:])\n",
        "  FoodNumber=len(Foods[:,0])\n",
        "  for i in range(FoodNumber):\n",
        "    Foods,trial,f,fitness=init(i,Foods,trial,f,fitness,MIN,MAX) \n",
        "  GlobMin=f[0]\n",
        "  for i in range(D):\n",
        "    GlobPars[i]=Foods[0,i]\n",
        "  return  f,Foods,GlobMin,GlobPars\n"
      ],
      "execution_count": null,
      "outputs": []
    },
    {
      "cell_type": "code",
      "metadata": {
        "id": "Jsfc_Dr5MmuX"
      },
      "source": [
        "def EmployedBees(trial,Foods,MIN,MAX):\n",
        "  FoodNumber=len(Foods[:,0])\n",
        "  NP=FoodNumber\n",
        "  D=len(Foods[0,:])\n",
        "  solution=np.zeros(D)\n",
        "  for i in range(FoodNumber):\n",
        "    r = np.random.random()\n",
        "    par2chan= int(r*D)\n",
        "    r = np.random.random()\n",
        "    neighbour=int(r*D)\n",
        "    if(neighbour >= NP):\n",
        "      neighbour=NP-1\n",
        "      \n",
        "    while(neighbour==i):\n",
        "      r = np.random.random()\n",
        "      neighbour=int(r*FoodNumber)\n",
        "      if(neighbour >= NP):\n",
        "        neighbour=NP-1\n",
        "    for j in range(D):\n",
        "      solution[j]=Foods[i,j]\n",
        "\n",
        "    r = np.random.random()\n",
        "    A=Foods[i,par2chan]\n",
        "    B=Foods[neighbour,par2chan]\n",
        "    solution[par2chan]=Foods[i,par2chan]+(A-B)*(r-0.5)*2;\n",
        "    if (solution[par2chan]<MIN[par2chan]):\n",
        "      solution[par2chan]=MIN[par2chan]\n",
        "    if (solution[par2chan]>MAX[par2chan]):\n",
        "      solution[par2chan]=MAX[par2chan]\n",
        "    ObjValSol=function(solution)\n",
        "    FitnessSol=CalcFit(ObjValSol)\n",
        "    \n",
        "    if(FitnessSol>fitness[i]):\n",
        "      trial[i]=0\n",
        "      for j in range(D):\n",
        "        Foods[i,j]=solution[j]\n",
        "      f[i]=ObjValSol\n",
        "      fitness[i]=FitnessSol\n",
        "    else:\n",
        "      trial[i]=trial[i]+1 \n",
        "      \n",
        "  return trial,Foods"
      ],
      "execution_count": null,
      "outputs": []
    },
    {
      "cell_type": "code",
      "metadata": {
        "id": "yibq0wsUThgD"
      },
      "source": [
        "def CalcProb(fitness,prob):\n",
        "  FoodNumber=len(fitness)\n",
        "  maxfit=fitness[0]\n",
        "  for i in range(1,FoodNumber):    \n",
        "    if (fitness[i]>maxfit):\n",
        "      maxfit=fitness[i]\n",
        "  for i in range(FoodNumber):\n",
        "    prob[i]=(0.9*(fitness[i]/maxfit))+0.1\n",
        "  return fitness,prob\n"
      ],
      "execution_count": null,
      "outputs": []
    },
    {
      "cell_type": "code",
      "metadata": {
        "id": "RRHG1BVqiNaZ"
      },
      "source": [
        "def OnlookerBees(trial,Foods,MIN,MAX):\n",
        "  D=len(Foods[0,:])\n",
        "  solution=np.zeros(D)\n",
        "  FoodNumber=len(Foods[:,0])\n",
        "  i=0\n",
        "  t=0\n",
        "  while(t<FoodNumber):\n",
        "    r = np.random.random()\n",
        "    if(r<prob[i]): \n",
        "      r = np.random.random()\n",
        "      t=t+1\n",
        "      par2chan=int(r*D)\n",
        "      r = np.random.random()\n",
        "      neighbour=int(r*FoodNumber)\n",
        "\n",
        "      while(neighbour==i):\n",
        "        r = np.random.random()\n",
        "        neighbour=int(r*FoodNumber)\n",
        "      for j in range(D):\n",
        "        solution[j]=Foods[i,j]\n",
        "\n",
        "      r = np.random.random()\n",
        "      A=Foods[i,par2chan]\n",
        "      B=Foods[neighbour,par2chan]\n",
        "      solution[par2chan]=A+(A-B)*(r-0.5)*2\n",
        "\n",
        "      if (solution[par2chan]<MIN[par2chan]):\n",
        "              solution[par2chan]=MIN[par2chan]\n",
        "      if (solution[par2chan]>MAX[par2chan]):\n",
        "              solution[par2chan]=MAX[par2chan]\n",
        "      ObjValSol=function(solution)\n",
        "      FitnessSol=CalcFit(ObjValSol)\n",
        "              \n",
        "      if(FitnessSol>fitness[i]):\n",
        "        trial[i]=0\n",
        "        for j in range(D):\n",
        "          Foods[i,j]=solution[j]\n",
        "        f[i]=ObjValSol\n",
        "        fitness[i]=FitnessSol\n",
        "      else:\n",
        "        trial[i]=trial[i]+1\n",
        "      i=i+1\n",
        "      if (i==FoodNumber):\n",
        "        i=0\n",
        "  return trial,Foods\n"
      ],
      "execution_count": null,
      "outputs": []
    },
    {
      "cell_type": "code",
      "metadata": {
        "id": "lZT7tTIPRNz4"
      },
      "source": [
        "def ScoutBees(fitness,f,Foods,trial,MIN,MAX):\n",
        "  FoodNumber=len(Foods[:,0])\n",
        "  max_trial=0\n",
        "  for i in range(1,FoodNumber):\n",
        "    if (trial[i]>trial[max_trial]):\n",
        "      max_trial=i\n",
        "  if(trial[max_trial]>=limit):\n",
        "    Foods,trial,f,fitness=init(max_trial,Foods,trial,f,fitness,MIN,MAX)\n",
        "  return trial,Foods\n"
      ],
      "execution_count": null,
      "outputs": []
    },
    {
      "cell_type": "code",
      "metadata": {
        "id": "fHwM7maM7L7K",
        "colab": {
          "base_uri": "https://localhost:8080/"
        },
        "outputId": "3d0f322a-a32f-4fcb-c53f-1aac4e049a1c"
      },
      "source": [
        "'''/*Main program of the ABC algorithm*/'''\n",
        "\n",
        "NPAR=30 #Numero de fontes de comida\n",
        "ITE=50 #ITERACOES (maxCycle)\n",
        "PAR=3 #NUM DE PARAMETROS A SER OTIMIZADOS\n",
        "MAX=[500,500,500] # MAXIMO DE CADA PARAMETRO\n",
        "MIN=[-500,-500,-500] # MINIMO DE CADA PARAMETRO\n",
        "\n",
        "limit=100 # quantas vezes obtem resposta identica antes de encerrar \n",
        "runtime=4 # quantas vezes vai rodar para tirar a media\n",
        "\n",
        "f=np.zeros(NPAR) \n",
        "Foods=np.zeros((NPAR,PAR)) \n",
        "solution=np.zeros(PAR)\n",
        "fitness=np.zeros(NPAR)\n",
        "trial=np.zeros(NPAR)\n",
        "prob=np.zeros(NPAR)\n",
        "GlobPars=np.zeros(PAR)\n",
        "GlobMins=np.zeros(runtime)\n",
        "GlobMin=1e99\n",
        "\n",
        "for run in range(runtime):\n",
        "  f,Foods,GlobMin,GlobPars= initial(fitness,trial,f,Foods,GlobMin,GlobPars,MIN,MAX)\n",
        "  GlobMin,GlobPars,Foods=BestSource(GlobMin,GlobPars,Foods)\n",
        "\n",
        "  for iter in range(ITE):\n",
        "    trial,Foods=EmployedBees(trial,Foods,MIN,MAX)\n",
        "    fitness,prob=CalcProb(fitness,prob)\n",
        "    trial,Foods=OnlookerBees(trial,Foods,MIN,MAX)\n",
        "    GlobMin,GlobPars,Foods=BestSource(GlobMin,GlobPars,Foods)\n",
        "    trial,Foods=ScoutBees(fitness,f,Foods,trial,MIN,MAX)\n",
        "\n",
        "  for j in range(PAR):\n",
        "    print(\"GlobalParam[\",j+1,\"]:\", GlobPars[j])\n",
        "    \n",
        "  print(\"run\",run+1,\"GBest=\",GlobMin,\" \\n\");\n",
        "  GlobMins[run]=GlobMin\n",
        "\n",
        "mean=np.average(GlobMins)\n",
        "\n",
        "\n",
        "print(\"Means of\",runtime,\"runs:\",mean,\"\\n\")"
      ],
      "execution_count": null,
      "outputs": [
        {
          "output_type": "stream",
          "name": "stdout",
          "text": [
            "GlobalParam[ 1 ]: 420.9683247750513\n",
            "GlobalParam[ 2 ]: 420.98318576359696\n",
            "GlobalParam[ 3 ]: 420.9607740832281\n",
            "run 1 GBest= 7.253392777784029e-05  \n",
            "\n",
            "GlobalParam[ 1 ]: 419.8968806732051\n",
            "GlobalParam[ 2 ]: -302.56108923776634\n",
            "GlobalParam[ 3 ]: 421.57851253599114\n",
            "run 2 GBest= 118.63036895680489  \n",
            "\n",
            "GlobalParam[ 1 ]: 420.61389216597024\n",
            "GlobalParam[ 2 ]: 420.9767851694182\n",
            "GlobalParam[ 3 ]: 419.96152054599946\n",
            "run 3 GBest= 0.1438908143363733  \n",
            "\n",
            "GlobalParam[ 1 ]: 420.8869078223751\n",
            "GlobalParam[ 2 ]: 422.1153690808895\n",
            "GlobalParam[ 3 ]: 420.2675548317038\n",
            "run 4 GBest= 0.22886683281444675  \n",
            "\n",
            "Means of 4 runs: 29.75079978447087 \n",
            "\n"
          ]
        }
      ]
    },
    {
      "cell_type": "code",
      "metadata": {
        "colab": {
          "base_uri": "https://localhost:8080/",
          "height": 119
        },
        "id": "LdHEFTDAFGdp",
        "outputId": "7c4f98e6-24ec-4bd7-fc7a-b546c0494575"
      },
      "source": [
        "'''\n",
        "ITE=300 #ITERACOES (maxCycle)\n",
        "\n",
        "\n",
        "GlobalParam[ 1 ]: 420.96874614718286\n",
        "GlobalParam[ 2 ]: 420.9687461719512\n",
        "GlobalParam[ 3 ]: 420.9687463768404\n",
        "run 1 GBest= 3.818269851763034e-05  \n",
        "\n",
        "GlobalParam[ 1 ]: 420.9687462577133\n",
        "GlobalParam[ 2 ]: 420.9687461387745\n",
        "GlobalParam[ 3 ]: 420.9687457381019\n",
        "run 2 GBest= 3.818269851763034e-05  \n",
        "\n",
        "GlobalParam[ 1 ]: 420.9687462047169\n",
        "GlobalParam[ 2 ]: 420.9687461691041\n",
        "GlobalParam[ 3 ]: 420.96874633691976\n",
        "run 3 GBest= 3.818269851763034e-05  \n",
        "\n",
        "GlobalParam[ 1 ]: 420.9687464772267\n",
        "GlobalParam[ 2 ]: 420.96874616214797\n",
        "GlobalParam[ 3 ]: 420.9687461513788\n",
        "run 4 GBest= 3.818269851763034e-05  \n",
        "\n",
        "Means of 4 runs: 3.818269851763034e-05 \n",
        "'''"
      ],
      "execution_count": null,
      "outputs": [
        {
          "output_type": "execute_result",
          "data": {
            "application/vnd.google.colaboratory.intrinsic+json": {
              "type": "string"
            },
            "text/plain": [
              "'\\nITE=300 #ITERACOES (maxCycle)\\n\\n\\nGlobalParam[ 1 ]: 420.96874614718286\\nGlobalParam[ 2 ]: 420.9687461719512\\nGlobalParam[ 3 ]: 420.9687463768404\\nrun 1 GBest= 3.818269851763034e-05  \\n\\nGlobalParam[ 1 ]: 420.9687462577133\\nGlobalParam[ 2 ]: 420.9687461387745\\nGlobalParam[ 3 ]: 420.9687457381019\\nrun 2 GBest= 3.818269851763034e-05  \\n\\nGlobalParam[ 1 ]: 420.9687462047169\\nGlobalParam[ 2 ]: 420.9687461691041\\nGlobalParam[ 3 ]: 420.96874633691976\\nrun 3 GBest= 3.818269851763034e-05  \\n\\nGlobalParam[ 1 ]: 420.9687464772267\\nGlobalParam[ 2 ]: 420.96874616214797\\nGlobalParam[ 3 ]: 420.9687461513788\\nrun 4 GBest= 3.818269851763034e-05  \\n\\nMeans of 4 runs: 3.818269851763034e-05 \\n'"
            ]
          },
          "metadata": {},
          "execution_count": 12
        }
      ]
    }
  ]
}