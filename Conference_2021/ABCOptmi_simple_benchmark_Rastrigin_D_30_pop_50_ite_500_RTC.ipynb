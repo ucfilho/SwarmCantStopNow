{
  "nbformat": 4,
  "nbformat_minor": 0,
  "metadata": {
    "colab": {
      "name": "ABCOptmi_simple_benchmark_Rastrigin_D_30_pop_50_ite_500_RTC.ipynb",
      "provenance": [],
      "collapsed_sections": [],
      "include_colab_link": true
    },
    "kernelspec": {
      "name": "python3",
      "display_name": "Python 3"
    }
  },
  "cells": [
    {
      "cell_type": "markdown",
      "metadata": {
        "id": "view-in-github",
        "colab_type": "text"
      },
      "source": [
        "<a href=\"https://colab.research.google.com/github/ucfilho/SwarmCantStopNow/blob/main/Conference_2021/ABCOptmi_simple_benchmark_Rastrigin_D_30_pop_50_ite_500_RTC.ipynb\" target=\"_parent\"><img src=\"https://colab.research.google.com/assets/colab-badge.svg\" alt=\"Open In Colab\"/></a>"
      ]
    },
    {
      "cell_type": "code",
      "metadata": {
        "id": "Q4rxtjKKCSVZ"
      },
      "source": [
        "import numpy as np\n",
        "from random import randint\n",
        "import pandas as pd\n",
        "import matplotlib.pyplot as plt\n",
        "import time"
      ],
      "execution_count": 1,
      "outputs": []
    },
    {
      "cell_type": "code",
      "metadata": {
        "colab": {
          "base_uri": "https://localhost:8080/"
        },
        "id": "81Qgm9BZdHM4",
        "outputId": "52c37077-6488-4dca-f040-2e99e258ac2b"
      },
      "source": [
        "!git clone https://github.com/ucfilho/Raianars_Routines #clonar do Github\n",
        "%cd Raianars_Routines"
      ],
      "execution_count": 2,
      "outputs": [
        {
          "output_type": "stream",
          "name": "stdout",
          "text": [
            "fatal: destination path 'Raianars_Routines' already exists and is not an empty directory.\n",
            "/content/Raianars_Routines\n"
          ]
        }
      ]
    },
    {
      "cell_type": "code",
      "metadata": {
        "id": "6n3eNdIFdBOt"
      },
      "source": [
        "############################### Função\n",
        "import FunctionsNew\n",
        "############################### Função\n",
        "dim=30 # \n",
        "fchoice='Rastrigin'\n",
        "function=FunctionsNew.Rastrigin\n",
        "MAX = []\n",
        "MIN = []\n",
        "\n",
        "for i in  range(dim):\n",
        "  MAX.append(5.12)\n",
        "  MIN.append(-5.12)\n"
      ],
      "execution_count": 3,
      "outputs": []
    },
    {
      "cell_type": "code",
      "metadata": {
        "id": "PWIY1PGq9Is1"
      },
      "source": [
        "def CalcFit(fun):\n",
        "    result=0\n",
        "    if(fun>=0):\n",
        "      result=1/(fun+1)\n",
        "    else:\n",
        "      result=1+fabs(fun)\n",
        "    return result"
      ],
      "execution_count": 4,
      "outputs": []
    },
    {
      "cell_type": "code",
      "metadata": {
        "id": "sNZ4ruzv-La8"
      },
      "source": [
        "def BestSource(GlobMin,GlobPars,Foods):\n",
        "  FoodNumber=len(Foods[:,0])\n",
        "  D=len(Foods[0,:])\n",
        "  solution=np.zeros(D)\n",
        "  for i in range(FoodNumber):\n",
        "    if (f[i]<GlobMin):\n",
        "      GlobMin=f[i]\n",
        "      for j in range(D):\n",
        "        GlobPars[j]=Foods[i,j]\n",
        "  return GlobMin,GlobPars,Foods"
      ],
      "execution_count": 5,
      "outputs": []
    },
    {
      "cell_type": "code",
      "metadata": {
        "id": "ckFKKQdNAVO1"
      },
      "source": [
        "def init(index,Foods,trial,f,fitness,MIN,MAX):\n",
        "  D=len(Foods[0,:])\n",
        "  FoodNumber=len(Foods[:,0])\n",
        "  solution=np.zeros(D)\n",
        "  for j in range(D):\n",
        "    r=np.random.random()\n",
        "    Foods[index,j]=r*(MAX[j]-MIN[j])+MIN[j]\n",
        "    solution[j]=Foods[index,j]\n",
        "    \n",
        "  f[index]=function(solution)\n",
        "  fitness[index]=CalcFit(f[index])\n",
        "  trial[index]=0\n",
        "  \n",
        "  return Foods,trial,f,fitness"
      ],
      "execution_count": 6,
      "outputs": []
    },
    {
      "cell_type": "code",
      "metadata": {
        "id": "Nbr0xLBdITa5"
      },
      "source": [
        "def initial(fitness,trial,f,Foods,GlobMin,GlobPars,MIN,MAX):\n",
        "  D=len(Foods[0,:])\n",
        "  FoodNumber=len(Foods[:,0])\n",
        "  for i in range(FoodNumber):\n",
        "    Foods,trial,f,fitness=init(i,Foods,trial,f,fitness,MIN,MAX) \n",
        "  GlobMin=f[0]\n",
        "  for i in range(D):\n",
        "    GlobPars[i]=Foods[0,i]\n",
        "  return  f,Foods,GlobMin,GlobPars\n"
      ],
      "execution_count": 7,
      "outputs": []
    },
    {
      "cell_type": "code",
      "metadata": {
        "id": "Jsfc_Dr5MmuX"
      },
      "source": [
        "def EmployedBees(trial,Foods,MIN,MAX):\n",
        "  FoodNumber=len(Foods[:,0])\n",
        "  NP=FoodNumber\n",
        "  D=len(Foods[0,:])\n",
        "  solution=np.zeros(D)\n",
        "  for i in range(FoodNumber):\n",
        "    r = np.random.random()\n",
        "    par2chan= int(r*D)\n",
        "    r = np.random.random()\n",
        "    neighbour=int(r*D)\n",
        "    if(neighbour >= NP):\n",
        "      neighbour=NP-1\n",
        "      \n",
        "    while(neighbour==i):\n",
        "      r = np.random.random()\n",
        "      neighbour=int(r*FoodNumber)\n",
        "      if(neighbour >= NP):\n",
        "        neighbour=NP-1\n",
        "    for j in range(D):\n",
        "      solution[j]=Foods[i,j]\n",
        "\n",
        "    r = np.random.random()\n",
        "    A=Foods[i,par2chan]\n",
        "    B=Foods[neighbour,par2chan]\n",
        "    solution[par2chan]=Foods[i,par2chan]+(A-B)*(r-0.5)*2;\n",
        "    if (solution[par2chan]<MIN[par2chan]):\n",
        "      solution[par2chan]=MIN[par2chan]\n",
        "    if (solution[par2chan]>MAX[par2chan]):\n",
        "      solution[par2chan]=MAX[par2chan]\n",
        "    ObjValSol=function(solution)\n",
        "    FitnessSol=CalcFit(ObjValSol)\n",
        "    \n",
        "    if(FitnessSol>fitness[i]):\n",
        "      trial[i]=0\n",
        "      for j in range(D):\n",
        "        Foods[i,j]=solution[j]\n",
        "      f[i]=ObjValSol\n",
        "      fitness[i]=FitnessSol\n",
        "    else:\n",
        "      trial[i]=trial[i]+1 \n",
        "      \n",
        "  return trial,Foods"
      ],
      "execution_count": 8,
      "outputs": []
    },
    {
      "cell_type": "code",
      "metadata": {
        "id": "yibq0wsUThgD"
      },
      "source": [
        "def CalcProb(fitness,prob):\n",
        "  FoodNumber=len(fitness)\n",
        "  maxfit=fitness[0]\n",
        "  for i in range(1,FoodNumber):    \n",
        "    if (fitness[i]>maxfit):\n",
        "      maxfit=fitness[i]\n",
        "  for i in range(FoodNumber):\n",
        "    prob[i]=(0.9*(fitness[i]/maxfit))+0.1\n",
        "  return fitness,prob\n"
      ],
      "execution_count": 9,
      "outputs": []
    },
    {
      "cell_type": "code",
      "metadata": {
        "id": "RRHG1BVqiNaZ"
      },
      "source": [
        "def OnlookerBees(trial,Foods,MIN,MAX):\n",
        "  D=len(Foods[0,:])\n",
        "  solution=np.zeros(D)\n",
        "  FoodNumber=len(Foods[:,0])\n",
        "  i=0\n",
        "  t=0\n",
        "  while(t<FoodNumber):\n",
        "    r = np.random.random()\n",
        "    if(r<prob[i]): \n",
        "      r = np.random.random()\n",
        "      t=t+1\n",
        "      par2chan=int(r*D)\n",
        "      r = np.random.random()\n",
        "      neighbour=int(r*FoodNumber)\n",
        "\n",
        "      while(neighbour==i):\n",
        "        r = np.random.random()\n",
        "        neighbour=int(r*FoodNumber)\n",
        "      for j in range(D):\n",
        "        solution[j]=Foods[i,j]\n",
        "\n",
        "      r = np.random.random()\n",
        "      A=Foods[i,par2chan]\n",
        "      B=Foods[neighbour,par2chan]\n",
        "      solution[par2chan]=A+(A-B)*(r-0.5)*2\n",
        "\n",
        "      if (solution[par2chan]<MIN[par2chan]):\n",
        "              solution[par2chan]=MIN[par2chan]\n",
        "      if (solution[par2chan]>MAX[par2chan]):\n",
        "              solution[par2chan]=MAX[par2chan]\n",
        "      ObjValSol=function(solution)\n",
        "      FitnessSol=CalcFit(ObjValSol)\n",
        "              \n",
        "      if(FitnessSol>fitness[i]):\n",
        "        trial[i]=0\n",
        "        for j in range(D):\n",
        "          Foods[i,j]=solution[j]\n",
        "        f[i]=ObjValSol\n",
        "        fitness[i]=FitnessSol\n",
        "      else:\n",
        "        trial[i]=trial[i]+1\n",
        "      i=i+1\n",
        "      if (i==FoodNumber):\n",
        "        i=0\n",
        "  return trial,Foods\n"
      ],
      "execution_count": 10,
      "outputs": []
    },
    {
      "cell_type": "code",
      "metadata": {
        "id": "lZT7tTIPRNz4"
      },
      "source": [
        "def ScoutBees(fitness,f,Foods,trial,MIN,MAX):\n",
        "  FoodNumber=len(Foods[:,0])\n",
        "  max_trial=0\n",
        "  for i in range(1,FoodNumber):\n",
        "    if (trial[i]>trial[max_trial]):\n",
        "      max_trial=i\n",
        "  if(trial[max_trial]>=limit):\n",
        "    Foods,trial,f,fitness=init(max_trial,Foods,trial,f,fitness,MIN,MAX)\n",
        "  return trial,Foods\n"
      ],
      "execution_count": 11,
      "outputs": []
    },
    {
      "cell_type": "code",
      "metadata": {
        "id": "fHwM7maM7L7K"
      },
      "source": [
        "'''/*Main program of the ABC algorithm*/'''\n",
        "\n",
        "NPAR=50 #Numero de fontes de comida\n",
        "ITE=500 #ITERACOES (maxCycle)\n",
        "\n",
        "PAR=len(MAX) #NUM DE PARAMETROS A SER OTIMIZADOS\n",
        "limit=1000 # quantas vezes obtem resposta identica antes de encerrar \n",
        "runtime=3 # quantas vezes vai rodar para tirar a media\n"
      ],
      "execution_count": 12,
      "outputs": []
    },
    {
      "cell_type": "code",
      "metadata": {
        "id": "-d0dl263QRVN"
      },
      "source": [
        "\n",
        "f=np.zeros(NPAR) \n",
        "Foods=np.zeros((NPAR,PAR)) \n",
        "solution=np.zeros(PAR)\n",
        "fitness=np.zeros(NPAR)\n",
        "trial=np.zeros(NPAR)\n",
        "prob=np.zeros(NPAR)\n",
        "GlobPars=np.zeros(PAR)\n",
        "GlobMins=np.zeros(runtime)\n",
        "GlobMin=1e99\n"
      ],
      "execution_count": 13,
      "outputs": []
    },
    {
      "cell_type": "code",
      "metadata": {
        "id": "Ug2pXSkxQY8D"
      },
      "source": [
        "# rule half-half\n",
        "N_2 = int(NPAR/1)"
      ],
      "execution_count": 14,
      "outputs": []
    },
    {
      "cell_type": "code",
      "metadata": {
        "id": "8dZeaBnlQTGy"
      },
      "source": [
        "f1=f\n",
        "Foods1=Foods\n",
        "solution1= np.zeros(PAR)\n",
        "fitness1=fitness\n",
        "trial1=trial\n",
        "prob1=prob\n",
        "GlobPars1=np.zeros(PAR)\n",
        "GlobMins1=np.zeros(runtime)\n",
        "GlobMin1=1e99"
      ],
      "execution_count": 15,
      "outputs": []
    },
    {
      "cell_type": "code",
      "metadata": {
        "colab": {
          "base_uri": "https://localhost:8080/"
        },
        "id": "M4UGSsQJQMFy",
        "outputId": "fb195e8f-9177-4e29-c2f9-2ef33ebc183e"
      },
      "source": [
        "initial_time = time.time()\n",
        "\n",
        "for run in range(runtime):\n",
        "  f1,Foods1,GlobMin1,GlobPars1= initial(fitness1,trial1,f1,Foods1,GlobMin1,GlobPars1,MIN,MAX)\n",
        "  GlobMin1,GlobPars1,Foods1=BestSource(GlobMin1,GlobPars1,Foods1)\n",
        "\n",
        "\n",
        "\n",
        "  for iter in range(ITE):\n",
        "    trial1,Foods1=EmployedBees(trial1,Foods1,MIN,MAX);\n",
        "\n",
        "\n",
        "    fitness1,prob1=CalcProb(fitness1,prob1);\n",
        "\n",
        "    trial1,Foods1=OnlookerBees(trial1,Foods1,MIN,MAX);\n",
        "\n",
        "    GlobMin1,GlobPars1,Foods1=BestSource(GlobMin1,GlobPars1,Foods1);\n",
        "\n",
        "    trial1,Foods1=ScoutBees(fitness1,f1,Foods1,trial1,MIN,MAX)\n",
        "\n",
        "\n",
        "\n",
        "\n",
        "  '''\n",
        "  for j in range(PAR):\n",
        "    print(\"GlobalParam[\",j+1,\"]:\", GlobPars1[j])\n",
        "\n",
        "  '''\n",
        "  current_time = time.time() -initial_time   \n",
        "  print(\"run\",run+1,\"time =\",current_time ,\"GBest=\",GlobMin1,\" \\n\");\n",
        "  GlobMins1[run]=GlobMin1\n",
        "\n",
        "mean=np.average(GlobMins1)\n",
        "sd_mean = np.std(GlobMins1)\n",
        "best_ans = GlobMins1.min()\n",
        "print(fchoice,'====dim:',dim,'===== pop:',NPAR,'===== ITE:',ITE,'====')\n",
        "print(\"Means of\",runtime,\"runs:\",mean,\"\\n\")\n",
        "print(\"Best ans of\",runtime,\"runs:\",best_ans,\"\\n\")\n",
        "print(\"Deviation of\",runtime,\"runs:\",sd_mean,\"\\n\")"
      ],
      "execution_count": 16,
      "outputs": [
        {
          "output_type": "stream",
          "name": "stdout",
          "text": [
            "run 1 time = 8.028607368469238 GBest= 7.289358863843518  \n",
            "\n",
            "run 2 time = 15.92762303352356 GBest= 6.547747045165863  \n",
            "\n",
            "run 3 time = 23.828858375549316 GBest= 6.82315430954111  \n",
            "\n",
            "Rastrigin ====dim: 30 ===== pop: 50 ===== ITE: 500 ====\n",
            "Means of 3 runs: 6.886753406183497 \n",
            "\n",
            "Best ans of 3 runs: 6.547747045165863 \n",
            "\n",
            "Deviation of 3 runs: 0.30608349211818037 \n",
            "\n"
          ]
        }
      ]
    },
    {
      "cell_type": "code",
      "metadata": {
        "colab": {
          "base_uri": "https://localhost:8080/"
        },
        "id": "5WSdEms2gjD4",
        "outputId": "f3c7ad04-6257-43dd-931f-7e0dd2adcb2f"
      },
      "source": [
        "GlobPars1"
      ],
      "execution_count": 17,
      "outputs": [
        {
          "output_type": "execute_result",
          "data": {
            "text/plain": [
              "array([ 9.81074952e-01,  5.74718500e-03, -2.11453600e-04, -8.14550044e-04,\n",
              "       -9.69876122e-01,  3.09738968e-03, -1.07270900e-03,  1.29124200e-02,\n",
              "        9.96092269e-01,  2.33858847e-04,  3.01811865e-02, -2.02562596e-02,\n",
              "        1.06334414e-03,  3.19504157e-04, -1.00533198e+00, -1.02605930e+00,\n",
              "        6.99060589e-05, -3.78752503e-04, -6.98161709e-02, -4.36788550e-04,\n",
              "       -8.48616559e-05, -2.28737848e-02, -5.93748845e-03,  3.06225742e-05,\n",
              "       -2.12634780e-02,  7.20764339e-04,  3.69431092e-03, -6.23809751e-03,\n",
              "        5.73342725e-03, -7.57192402e-04])"
            ]
          },
          "metadata": {},
          "execution_count": 17
        }
      ]
    }
  ]
}