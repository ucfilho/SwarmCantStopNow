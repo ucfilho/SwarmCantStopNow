{
  "nbformat": 4,
  "nbformat_minor": 0,
  "metadata": {
    "colab": {
      "name": "ANN_Temporal_Series_LSTM_keras_furniture_April_11_2021.ipynb",
      "provenance": [],
      "authorship_tag": "ABX9TyO+GnKiy5FNjyq0wI2atu5I",
      "include_colab_link": true
    },
    "kernelspec": {
      "name": "python3",
      "display_name": "Python 3"
    },
    "language_info": {
      "name": "python"
    }
  },
  "cells": [
    {
      "cell_type": "markdown",
      "metadata": {
        "id": "view-in-github",
        "colab_type": "text"
      },
      "source": [
        "<a href=\"https://colab.research.google.com/github/ucfilho/SwarmCantStopNow/blob/main/Conference_2021/Serie_Temporal/ANN_Temporal_Series_LSTM_keras_furniture_April_11_2021.ipynb\" target=\"_parent\"><img src=\"https://colab.research.google.com/assets/colab-badge.svg\" alt=\"Open In Colab\"/></a>"
      ]
    },
    {
      "cell_type": "code",
      "metadata": {
        "id": "G6_52vHnr34h"
      },
      "source": [
        "import pandas as pd\n",
        "import numpy as np\n",
        "from google.colab import files\n",
        "import matplotlib.pyplot as plt\n",
        "from sklearn.model_selection import train_test_split\n",
        "from sklearn.preprocessing import MinMaxScaler\n",
        "from sklearn.metrics import mean_squared_error\n",
        "from sklearn.metrics import r2_score"
      ],
      "execution_count": 5,
      "outputs": []
    },
    {
      "cell_type": "code",
      "metadata": {
        "id": "d7MsJQI2mdaz"
      },
      "source": [
        "from keras.models import Sequential\n",
        "from keras.layers import Dense\n",
        "from keras.layers import LSTM"
      ],
      "execution_count": 6,
      "outputs": []
    },
    {
      "cell_type": "code",
      "metadata": {
        "colab": {
          "base_uri": "https://localhost:8080/"
        },
        "id": "HOWF51hxrhhP",
        "outputId": "9b321d98-251d-4d30-ecd7-6adbcbd5a9f8"
      },
      "source": [
        "!git clone https://github.com/ucfilho/Machine_Learning_DataSet\n",
        "%cd Machine_Learning_DataSet"
      ],
      "execution_count": 7,
      "outputs": [
        {
          "output_type": "stream",
          "name": "stdout",
          "text": [
            "Cloning into 'Machine_Learning_DataSet'...\n",
            "remote: Enumerating objects: 65, done.\u001b[K\n",
            "remote: Counting objects: 100% (65/65), done.\u001b[K\n",
            "remote: Compressing objects: 100% (63/63), done.\u001b[K\n",
            "remote: Total 65 (delta 18), reused 0 (delta 0), pack-reused 0\u001b[K\n",
            "Unpacking objects: 100% (65/65), done.\n",
            "/content/Machine_Learning_DataSet\n"
          ]
        }
      ]
    },
    {
      "cell_type": "code",
      "metadata": {
        "colab": {
          "base_uri": "https://localhost:8080/"
        },
        "id": "j6Lc6V7EroT-",
        "outputId": "e2c71b4b-ebde-4b0c-f591-2fea15774b86"
      },
      "source": [
        "df = pd.read_excel(\"Superstore.xls\")\n",
        "print(df.head(3)) # shows headers with top 3 rows"
      ],
      "execution_count": 8,
      "outputs": [
        {
          "output_type": "stream",
          "name": "stdout",
          "text": [
            "   Row ID        Order ID Order Date  ... Quantity Discount    Profit\n",
            "0       1  CA-2016-152156 2016-11-08  ...        2      0.0   41.9136\n",
            "1       2  CA-2016-152156 2016-11-08  ...        3      0.0  219.5820\n",
            "2       3  CA-2016-138688 2016-06-12  ...        2      0.0    6.8714\n",
            "\n",
            "[3 rows x 21 columns]\n"
          ]
        }
      ]
    },
    {
      "cell_type": "code",
      "metadata": {
        "id": "RUhuWR_Ltcmd",
        "colab": {
          "base_uri": "https://localhost:8080/"
        },
        "outputId": "a59b4c87-b6d2-4979-d662-347043cf3603"
      },
      "source": [
        "Names =df['Category'].drop_duplicates()\n",
        "print(Names)"
      ],
      "execution_count": 9,
      "outputs": [
        {
          "output_type": "stream",
          "name": "stdout",
          "text": [
            "0          Furniture\n",
            "2    Office Supplies\n",
            "7         Technology\n",
            "Name: Category, dtype: object\n"
          ]
        }
      ]
    },
    {
      "cell_type": "code",
      "metadata": {
        "colab": {
          "base_uri": "https://localhost:8080/"
        },
        "id": "ZKiAEGAN1pjb",
        "outputId": "08e8c770-4bc3-48cb-9a66-f12c9377091f"
      },
      "source": [
        "Stuff =df['Sub-Category'].drop_duplicates()\n",
        "print(Stuff)"
      ],
      "execution_count": 10,
      "outputs": [
        {
          "output_type": "stream",
          "name": "stdout",
          "text": [
            "0        Bookcases\n",
            "1           Chairs\n",
            "2           Labels\n",
            "3           Tables\n",
            "4          Storage\n",
            "5      Furnishings\n",
            "6              Art\n",
            "7           Phones\n",
            "8          Binders\n",
            "9       Appliances\n",
            "12           Paper\n",
            "26     Accessories\n",
            "30       Envelopes\n",
            "53       Fasteners\n",
            "138       Supplies\n",
            "165       Machines\n",
            "335        Copiers\n",
            "Name: Sub-Category, dtype: object\n"
          ]
        }
      ]
    },
    {
      "cell_type": "code",
      "metadata": {
        "id": "PsiQSIt-8Mbo"
      },
      "source": [
        "furniture = df.loc[df['Category'] == 'Furniture']\n",
        "furniture = furniture.groupby('Order Date')['Sales'].sum().reset_index()\n",
        "furniture = furniture.set_index('Order Date')\n",
        "\n",
        "y = furniture['Sales'].resample('MS').mean()\n",
        "y = y.reset_index()"
      ],
      "execution_count": 11,
      "outputs": []
    },
    {
      "cell_type": "code",
      "metadata": {
        "id": "CPI16Jdj7h_E"
      },
      "source": [
        "chairs = df.loc[df['Sub-Category'] == 'Chairs']\n",
        "chairs = chairs.groupby('Order Date')['Sales'].sum().reset_index()\n",
        "chairs = chairs.set_index('Order Date')\n",
        "w = chairs['Sales'].resample('MS').mean()\n",
        "w=w.fillna(0)"
      ],
      "execution_count": 12,
      "outputs": []
    },
    {
      "cell_type": "code",
      "metadata": {
        "id": "eYLU1Pk284fs"
      },
      "source": [
        "machines = df.loc[df['Sub-Category'] == 'Machines']\n",
        "machines = machines.groupby('Order Date')['Sales'].sum().reset_index()\n",
        "machines = machines.set_index('Order Date')\n",
        "m = machines['Sales'].resample('MS').mean()\n",
        "m=m.fillna(0) "
      ],
      "execution_count": 13,
      "outputs": []
    },
    {
      "cell_type": "code",
      "metadata": {
        "id": "-PaVYyU28p8o"
      },
      "source": [
        "tables = df.loc[df['Sub-Category'] == 'Tables']\n",
        "tables = tables.groupby('Order Date')['Sales'].sum().reset_index()\n",
        "tables = tables.set_index('Order Date')\n",
        "t = tables['Sales'].resample('MS').mean()\n",
        "t=t.fillna(0) "
      ],
      "execution_count": 14,
      "outputs": []
    },
    {
      "cell_type": "code",
      "metadata": {
        "id": "PObQVjSb0ia9",
        "colab": {
          "base_uri": "https://localhost:8080/"
        },
        "outputId": "13c46274-e267-49e2-c72f-e35c54773d59"
      },
      "source": [
        "names = t.index; print(names)"
      ],
      "execution_count": 15,
      "outputs": [
        {
          "output_type": "stream",
          "name": "stdout",
          "text": [
            "DatetimeIndex(['2014-01-01', '2014-02-01', '2014-03-01', '2014-04-01',\n",
            "               '2014-05-01', '2014-06-01', '2014-07-01', '2014-08-01',\n",
            "               '2014-09-01', '2014-10-01', '2014-11-01', '2014-12-01',\n",
            "               '2015-01-01', '2015-02-01', '2015-03-01', '2015-04-01',\n",
            "               '2015-05-01', '2015-06-01', '2015-07-01', '2015-08-01',\n",
            "               '2015-09-01', '2015-10-01', '2015-11-01', '2015-12-01',\n",
            "               '2016-01-01', '2016-02-01', '2016-03-01', '2016-04-01',\n",
            "               '2016-05-01', '2016-06-01', '2016-07-01', '2016-08-01',\n",
            "               '2016-09-01', '2016-10-01', '2016-11-01', '2016-12-01',\n",
            "               '2017-01-01', '2017-02-01', '2017-03-01', '2017-04-01',\n",
            "               '2017-05-01', '2017-06-01', '2017-07-01', '2017-08-01',\n",
            "               '2017-09-01', '2017-10-01', '2017-11-01', '2017-12-01'],\n",
            "              dtype='datetime64[ns]', name='Order Date', freq='MS')\n"
          ]
        }
      ]
    },
    {
      "cell_type": "code",
      "metadata": {
        "id": "Ji1RGaij2Wpi"
      },
      "source": [
        "import datetime\n",
        "months = []\n",
        "for i in names:\n",
        "  months.append(i.month)\n",
        "#months =pd.Series(months).reset_index()"
      ],
      "execution_count": 16,
      "outputs": []
    },
    {
      "cell_type": "code",
      "metadata": {
        "id": "kT2TQuap-Pdw",
        "colab": {
          "base_uri": "https://localhost:8080/"
        },
        "outputId": "3774533f-8848-40b9-805f-72d287aea88d"
      },
      "source": [
        "len(y)"
      ],
      "execution_count": 17,
      "outputs": [
        {
          "output_type": "execute_result",
          "data": {
            "text/plain": [
              "48"
            ]
          },
          "metadata": {},
          "execution_count": 17
        }
      ]
    },
    {
      "cell_type": "code",
      "metadata": {
        "id": "-4Ge4lcx_Kw1"
      },
      "source": [
        "y1 = y.shift(1).values[:,1]\n",
        "y2 = y.shift(2).values[:,1]\n",
        "y3 = y.shift(3).values[:,1]\n",
        "y4 = y.shift(4).values[:,1]\n",
        "y = y.values[:,1]"
      ],
      "execution_count": 18,
      "outputs": []
    },
    {
      "cell_type": "code",
      "metadata": {
        "id": "suYwM6Ux-DC4"
      },
      "source": [
        "dataframe = pd.DataFrame({'mo':months,'t-1':y1,'t-2':y2,'t-3':y3,'y':y})\n",
        "dataframe = dataframe.dropna()"
      ],
      "execution_count": 19,
      "outputs": []
    },
    {
      "cell_type": "code",
      "metadata": {
        "id": "zaOzv0Tp46Tr",
        "colab": {
          "base_uri": "https://localhost:8080/",
          "height": 142
        },
        "outputId": "c93a507f-ab93-4572-fbb0-c7fa10f52f7b"
      },
      "source": [
        "pd.set_option(\"max_columns\", None)\n",
        "pd.set_option(\"max_rows\", None)\n",
        "dataframe.head(3)"
      ],
      "execution_count": 20,
      "outputs": [
        {
          "output_type": "execute_result",
          "data": {
            "text/html": [
              "<div>\n",
              "<style scoped>\n",
              "    .dataframe tbody tr th:only-of-type {\n",
              "        vertical-align: middle;\n",
              "    }\n",
              "\n",
              "    .dataframe tbody tr th {\n",
              "        vertical-align: top;\n",
              "    }\n",
              "\n",
              "    .dataframe thead th {\n",
              "        text-align: right;\n",
              "    }\n",
              "</style>\n",
              "<table border=\"1\" class=\"dataframe\">\n",
              "  <thead>\n",
              "    <tr style=\"text-align: right;\">\n",
              "      <th></th>\n",
              "      <th>mo</th>\n",
              "      <th>t-1</th>\n",
              "      <th>t-2</th>\n",
              "      <th>t-3</th>\n",
              "      <th>y</th>\n",
              "    </tr>\n",
              "  </thead>\n",
              "  <tbody>\n",
              "    <tr>\n",
              "      <th>3</th>\n",
              "      <td>4</td>\n",
              "      <td>857.292</td>\n",
              "      <td>367.932</td>\n",
              "      <td>480.194</td>\n",
              "      <td>567.488</td>\n",
              "    </tr>\n",
              "    <tr>\n",
              "      <th>4</th>\n",
              "      <td>5</td>\n",
              "      <td>567.488</td>\n",
              "      <td>857.292</td>\n",
              "      <td>367.932</td>\n",
              "      <td>432.049</td>\n",
              "    </tr>\n",
              "    <tr>\n",
              "      <th>5</th>\n",
              "      <td>6</td>\n",
              "      <td>432.049</td>\n",
              "      <td>567.488</td>\n",
              "      <td>857.292</td>\n",
              "      <td>695.059</td>\n",
              "    </tr>\n",
              "  </tbody>\n",
              "</table>\n",
              "</div>"
            ],
            "text/plain": [
              "   mo      t-1      t-2      t-3        y\n",
              "3   4  857.292  367.932  480.194  567.488\n",
              "4   5  567.488  857.292  367.932  432.049\n",
              "5   6  432.049  567.488  857.292  695.059"
            ]
          },
          "metadata": {},
          "execution_count": 20
        }
      ]
    },
    {
      "cell_type": "code",
      "metadata": {
        "id": "YcpfdGu2Dbzo"
      },
      "source": [
        "X=dataframe.iloc[:,:-1]\n",
        "y=np.array(dataframe.iloc[:,-1]).reshape(-1, 1)"
      ],
      "execution_count": 21,
      "outputs": []
    },
    {
      "cell_type": "code",
      "metadata": {
        "id": "mbvaQKvuEWTQ"
      },
      "source": [
        "rows, cols = X.shape\n",
        "ntrain = int(rows*0.8)\n",
        "X_train=X.iloc[0:ntrain,:].copy()\n",
        "y_train= y[0:ntrain,:].copy()\n",
        "X_test=X.drop(X_train.index)\n",
        "y_test=np.delete(y,range(ntrain))\n",
        "y_train = y_train.reshape(-1, 1)\n",
        "y_test = y_test.reshape(-1, 1)"
      ],
      "execution_count": 22,
      "outputs": []
    },
    {
      "cell_type": "code",
      "metadata": {
        "id": "B6N5k_BVCdri"
      },
      "source": [
        "#, X_test, y_train, y_test = train_test_split(X, y, test_size=0.2, random_state=101)\n",
        "#X_train\n",
        "scalerX = MinMaxScaler() \n",
        "scalerY = MinMaxScaler() \n",
        "scalerX.fit(X_train) \n",
        "scalerY.fit(y_train) \n",
        "X_train = scalerX.transform(X_train)\n",
        "X_test = scalerX.transform(X_test)\n",
        "y_train= scalerY.transform(y_train) \n",
        "y_test= scalerY.transform(y_test)"
      ],
      "execution_count": 23,
      "outputs": []
    },
    {
      "cell_type": "code",
      "metadata": {
        "id": "weovYXt-CipU",
        "colab": {
          "base_uri": "https://localhost:8080/"
        },
        "outputId": "2dd997a2-7f56-4a64-b696-45d9a48208c2"
      },
      "source": [
        "\n",
        "for i in range(1):\n",
        "  model = Sequential()\n",
        "  model.add(LSTM(units=32, activation='tanh',input_shape=(X_train.shape[1], 4)))\n",
        "  # units=32 \n",
        "  model.add(Dense(1))\n",
        "  model.compile(loss='mean_squared_error', optimizer='adam')\n",
        "  X_train = np.reshape(X_train, (X_train.shape[0], 1, X_train.shape[1]))\n",
        "  X_test = np.reshape(X_test, (X_test.shape[0], 1, X_test.shape[1]))\n",
        "  model.fit(X_train, y_train, epochs=200, batch_size=1, verbose=0)\n",
        "  y_calc_train=model.predict(X_train)\n",
        "  y_calc_test=model.predict(X_test)\n",
        "  mse_test=mean_squared_error(y_test,y_calc_test)\n",
        "  R2_test=r2_score(y_test,y_calc_test)\n",
        "  mse_train=mean_squared_error(y_train,y_calc_train)\n",
        "  R2_train=r2_score(y_train,y_calc_train)\n",
        "\n",
        "\n",
        "\n"
      ],
      "execution_count": 24,
      "outputs": [
        {
          "output_type": "stream",
          "name": "stdout",
          "text": [
            "WARNING:tensorflow:Model was constructed with shape (None, 4, 4) for input KerasTensor(type_spec=TensorSpec(shape=(None, 4, 4), dtype=tf.float32, name='lstm_input'), name='lstm_input', description=\"created by layer 'lstm_input'\"), but it was called on an input with incompatible shape (1, 1, 4).\n",
            "WARNING:tensorflow:Model was constructed with shape (None, 4, 4) for input KerasTensor(type_spec=TensorSpec(shape=(None, 4, 4), dtype=tf.float32, name='lstm_input'), name='lstm_input', description=\"created by layer 'lstm_input'\"), but it was called on an input with incompatible shape (1, 1, 4).\n",
            "WARNING:tensorflow:Model was constructed with shape (None, 4, 4) for input KerasTensor(type_spec=TensorSpec(shape=(None, 4, 4), dtype=tf.float32, name='lstm_input'), name='lstm_input', description=\"created by layer 'lstm_input'\"), but it was called on an input with incompatible shape (None, 1, 4).\n"
          ]
        }
      ]
    },
    {
      "cell_type": "code",
      "metadata": {
        "id": "Z_V3ASfyCvfa",
        "colab": {
          "base_uri": "https://localhost:8080/",
          "height": 283
        },
        "outputId": "4cbcfc0c-372e-4fae-f0c7-a5a6e4e6aa1a"
      },
      "source": [
        "\n",
        "# expressa os dois dados em figura\n",
        "fig = plt.figure()\n",
        "ax1 = fig.add_subplot(111)\n",
        "\n",
        "ax1.scatter(y_test,y_calc_test, s=10, c='b', marker=\"s\", label='teste')\n",
        "ax1.scatter(y_train,y_calc_train, s=10, c='r', marker=\"o\", label='treino')\n",
        "ax1.set_xlim([0, 1])\n",
        "ax1.set_ylim([0, 1])\n",
        "plt.legend(loc='upper left')\n",
        "plt.ylabel('Y Calc')\n",
        "plt.xlabel('Y Obs')\n",
        "plt.show()"
      ],
      "execution_count": 25,
      "outputs": [
        {
          "output_type": "display_data",
          "data": {
            "image/png": "[encoded data removed]",
            "text/plain": [
              "<Figure size 432x288 with 1 Axes>"
            ]
          },
          "metadata": {
            "needs_background": "light"
          }
        }
      ]
    },
    {
      "cell_type": "code",
      "metadata": {
        "id": "LYFWNxeDXxyA",
        "colab": {
          "base_uri": "https://localhost:8080/"
        },
        "outputId": "5d35d610-aa76-478a-b4a0-cc49416348e8"
      },
      "source": [
        "mse=mean_squared_error(y_test,y_calc_test)\n",
        "print(\"MSE teste=\",mse)\n",
        "R2=r2_score(y_test,y_calc_test)\n",
        "print(\"R^2 teste=\",R2)"
      ],
      "execution_count": 26,
      "outputs": [
        {
          "output_type": "stream",
          "name": "stdout",
          "text": [
            "MSE teste= 0.013204312121881253\n",
            "R^2 teste= 0.7765163283885408\n"
          ]
        }
      ]
    },
    {
      "cell_type": "code",
      "metadata": {
        "colab": {
          "base_uri": "https://localhost:8080/"
        },
        "id": "owr88npGaV73",
        "outputId": "6be29b75-fe90-449e-f5a6-4c76337411c1"
      },
      "source": [
        "mse=mean_squared_error(y_train,y_calc_train)\n",
        "print(\"MSE train=\",mse)\n",
        "R2=r2_score(y_train,y_calc_train)\n",
        "print(\"R^2 train=\",R2)"
      ],
      "execution_count": 27,
      "outputs": [
        {
          "output_type": "stream",
          "name": "stdout",
          "text": [
            "MSE train= 0.024402210918855048\n",
            "R^2 train= 0.6343868981132623\n"
          ]
        }
      ]
    },
    {
      "cell_type": "code",
      "metadata": {
        "id": "BA8zj-jY2EZu"
      },
      "source": [
        "y_calc = y_calc_train.tolist()"
      ],
      "execution_count": 28,
      "outputs": []
    },
    {
      "cell_type": "code",
      "metadata": {
        "id": "pth2NdH124As"
      },
      "source": [
        "for yi in y_calc_test:\n",
        "  y_calc.append(yi)"
      ],
      "execution_count": 29,
      "outputs": []
    },
    {
      "cell_type": "code",
      "metadata": {
        "id": "KczspclD30Q1"
      },
      "source": [
        "y_calc = np.array(y_calc).reshape(1,-1)\n",
        "y_calc = scalerY.inverse_transform(y_calc)"
      ],
      "execution_count": 30,
      "outputs": []
    },
    {
      "cell_type": "code",
      "metadata": {
        "colab": {
          "base_uri": "https://localhost:8080/",
          "height": 279
        },
        "id": "XqBi0bYl3D0C",
        "outputId": "986437bd-3c41-4f76-f803-70f0af0d5a82"
      },
      "source": [
        "line1, =plt.plot(range(len(y)),y,c='r')\n",
        "line2, =plt.plot(range(len(y)),y_calc[0], c='b')\n",
        "plt.legend([line1,line2],['true','ANN'],loc='upper right')\n",
        "plt.xlabel('Semanas')\n",
        "plt.ylabel('Vendas em milhões/semana')\n",
        "plt.show()"
      ],
      "execution_count": 42,
      "outputs": [
        {
          "output_type": "display_data",
          "data": {
            "image/png": "[encoded data removed]",
            "text/plain": [
              "<Figure size 432x288 with 1 Axes>"
            ]
          },
          "metadata": {
            "needs_background": "light"
          }
        }
      ]
    },
    {
      "cell_type": "code",
      "metadata": {
        "colab": {
          "base_uri": "https://localhost:8080/"
        },
        "id": "CxGHy5WY5mJH",
        "outputId": "34d6ea73-0317-4c95-a8cb-5647dd32087e"
      },
      "source": [
        "df['Product ID'].shape"
      ],
      "execution_count": 41,
      "outputs": [
        {
          "output_type": "execute_result",
          "data": {
            "text/plain": [
              "(9994,)"
            ]
          },
          "metadata": {},
          "execution_count": 41
        }
      ]
    },
    {
      "cell_type": "code",
      "metadata": {
        "colab": {
          "base_uri": "https://localhost:8080/"
        },
        "id": "S3DzHc5i4swC",
        "outputId": "04447139-9fcd-401b-eecf-8510545e8e45"
      },
      "source": [
        "y_calc"
      ],
      "execution_count": 32,
      "outputs": [
        {
          "output_type": "execute_result",
          "data": {
            "text/plain": [
              "array([[ 518.22591823,  571.72850804,  738.81387541,  689.33224923,\n",
              "         788.32632847,  960.92637944,  849.98064879, 1088.44085742,\n",
              "        1233.73172578,  686.44772903,  523.50903241,  664.4558329 ,\n",
              "         630.41143242,  596.50429913,  727.64386056,  817.7411271 ,\n",
              "         766.26226941,  876.69336631,  846.78530257, 1252.83234082,\n",
              "        1232.00514026,  475.74071518,  539.31087354,  566.26297229,\n",
              "         513.06866879,  548.9176503 ,  672.26375612,  748.14825465,\n",
              "         846.33624601,  965.28663142,  940.82739385, 1248.24453042,\n",
              "        1149.71152322,  594.38722812,  483.20984048,  648.42809729,\n",
              "         501.93941199,  589.50002916,  628.55111779,  685.05656098,\n",
              "         881.47664716,  898.73434024,  892.46804125, 1230.15692869,\n",
              "        1248.77797556]])"
            ]
          },
          "metadata": {},
          "execution_count": 32
        }
      ]
    },
    {
      "cell_type": "code",
      "metadata": {
        "colab": {
          "base_uri": "https://localhost:8080/"
        },
        "id": "XHzDUqM74zAs",
        "outputId": "b4ab5dc9-f9a3-4213-8897-ac4853a1972d"
      },
      "source": [
        "y"
      ],
      "execution_count": 33,
      "outputs": [
        {
          "output_type": "execute_result",
          "data": {
            "text/plain": [
              "array([[567.4883571428571],\n",
              "       [432.04918749999996],\n",
              "       [695.0592421052633],\n",
              "       [601.1695000000002],\n",
              "       [457.52165625000004],\n",
              "       [992.3533666666668],\n",
              "       [769.0154375],\n",
              "       [980.2214863636365],\n",
              "       [1532.2983249999997],\n",
              "       [978.3284666666667],\n",
              "       [522.3956666666667],\n",
              "       [781.2364374999999],\n",
              "       [805.8229615384615],\n",
              "       [624.9966999999999],\n",
              "       [428.56550000000004],\n",
              "       [719.7063157894737],\n",
              "       [602.4120125],\n",
              "       [1382.7906842105265],\n",
              "       [632.9801842105262],\n",
              "       [1286.7013541666663],\n",
              "       [1049.355418181818],\n",
              "       [508.1828666666667],\n",
              "       [356.86827272727265],\n",
              "       [609.5758095238094],\n",
              "       [695.3731578947368],\n",
              "       [687.2652272727274],\n",
              "       [816.9107499999998],\n",
              "       [768.7364117647057],\n",
              "       [734.3077823529411],\n",
              "       [1135.953370833333],\n",
              "       [624.8724736842106],\n",
              "       [1271.3451520000003],\n",
              "       [1410.7198076923075],\n",
              "       [397.60213333333326],\n",
              "       [528.1798],\n",
              "       [544.6722400000001],\n",
              "       [453.297905],\n",
              "       [678.302328],\n",
              "       [826.4602913043478],\n",
              "       [562.5248571428571],\n",
              "       [857.8818888888887],\n",
              "       [1209.5085833333335],\n",
              "       [875.362728],\n",
              "       [1277.8177586206896],\n",
              "       [1256.298672]], dtype=object)"
            ]
          },
          "metadata": {},
          "execution_count": 33
        }
      ]
    },
    {
      "cell_type": "code",
      "metadata": {
        "id": "ag2HzmFAUJzH",
        "outputId": "58a4071a-59c2-48c6-8d83-c6e82952d2f3",
        "colab": {
          "base_uri": "https://localhost:8080/",
          "height": 309
        }
      },
      "source": [
        "plt.plot(furniture)\n",
        "plt.xticks(rotation=45)\n",
        "plt.ylabel('Vendas em milhões')"
      ],
      "execution_count": 40,
      "outputs": [
        {
          "output_type": "execute_result",
          "data": {
            "text/plain": [
              "Text(0, 0.5, 'Vendas em milhões')"
            ]
          },
          "metadata": {},
          "execution_count": 40
        },
        {
          "output_type": "display_data",
          "data": {
            "image/png": "[encoded data removed]",
            "text/plain": [
              "<Figure size 432x288 with 1 Axes>"
            ]
          },
          "metadata": {
            "needs_background": "light"
          }
        }
      ]
    },
    {
      "cell_type": "code",
      "metadata": {
        "id": "bL6Ly_IzUzOK",
        "outputId": "5b474108-f5ab-47eb-93cd-b068810d6bd2",
        "colab": {
          "base_uri": "https://localhost:8080/"
        }
      },
      "source": [
        "sum(df['Profit'].values)"
      ],
      "execution_count": 38,
      "outputs": [
        {
          "output_type": "execute_result",
          "data": {
            "text/plain": [
              "286397.02170000126"
            ]
          },
          "metadata": {},
          "execution_count": 38
        }
      ]
    }
  ]
}