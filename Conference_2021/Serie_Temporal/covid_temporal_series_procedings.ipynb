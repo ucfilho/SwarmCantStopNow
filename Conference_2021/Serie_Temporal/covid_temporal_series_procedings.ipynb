{
  "nbformat": 4,
  "nbformat_minor": 0,
  "metadata": {
    "colab": {
      "name": "covid_temporal_series_procedings.ipynb",
      "provenance": [],
      "authorship_tag": "ABX9TyMp3gJfH/qcAqmOyE8T3c5u",
      "include_colab_link": true
    },
    "kernelspec": {
      "name": "python3",
      "display_name": "Python 3"
    },
    "language_info": {
      "name": "python"
    }
  },
  "cells": [
    {
      "cell_type": "markdown",
      "metadata": {
        "id": "view-in-github",
        "colab_type": "text"
      },
      "source": [
        "<a href=\"https://colab.research.google.com/github/ucfilho/SwarmCantStopNow/blob/main/Conference_2021/Serie_Temporal/covid_temporal_series_procedings.ipynb\" target=\"_parent\"><img src=\"https://colab.research.google.com/assets/colab-badge.svg\" alt=\"Open In Colab\"/></a>"
      ]
    },
    {
      "cell_type": "code",
      "metadata": {
        "id": "DLCXgpM1HqJG"
      },
      "source": [
        "from matplotlib import pyplot as plt\n",
        "from skimage import feature\n",
        "from skimage import measure\n",
        "from PIL import Image\n",
        "import numpy as np\n",
        "import pandas as pd\n",
        "import os \n",
        "import cv2\n",
        "import re, random\n",
        "\n",
        "from sklearn.neural_network import MLPClassifier\n",
        "from sklearn import preprocessing\n",
        "from sklearn.model_selection import train_test_split\n",
        "from sklearn.metrics import classification_report\n",
        "import random"
      ],
      "execution_count": 1,
      "outputs": []
    },
    {
      "cell_type": "code",
      "metadata": {
        "colab": {
          "base_uri": "https://localhost:8080/"
        },
        "id": "70uxD7v2Hqxf",
        "outputId": "68a302e6-c690-4b99-8a27-7c490a92ec84"
      },
      "source": [
        "!gdown --id 1m45STSbR25jWliFqa_1QyUtrL4hZz8j6\n"
      ],
      "execution_count": 2,
      "outputs": [
        {
          "output_type": "stream",
          "name": "stdout",
          "text": [
            "Downloading...\n",
            "From: https://drive.google.com/uc?id=1m45STSbR25jWliFqa_1QyUtrL4hZz8j6\n",
            "To: /content/caso.csv\n",
            "214MB [00:01, 176MB/s]\n"
          ]
        }
      ]
    },
    {
      "cell_type": "code",
      "metadata": {
        "id": "Gsno0wBRITyN"
      },
      "source": [
        "df = pd.read_csv(\"caso.csv\")"
      ],
      "execution_count": 3,
      "outputs": []
    },
    {
      "cell_type": "code",
      "metadata": {
        "colab": {
          "base_uri": "https://localhost:8080/",
          "height": 307
        },
        "id": "p2DMSn4oIcaS",
        "outputId": "f445b32d-97f6-4785-be68-9d125ca298b6"
      },
      "source": [
        "df.head()"
      ],
      "execution_count": 4,
      "outputs": [
        {
          "output_type": "execute_result",
          "data": {
            "text/html": [
              "<div>\n",
              "<style scoped>\n",
              "    .dataframe tbody tr th:only-of-type {\n",
              "        vertical-align: middle;\n",
              "    }\n",
              "\n",
              "    .dataframe tbody tr th {\n",
              "        vertical-align: top;\n",
              "    }\n",
              "\n",
              "    .dataframe thead th {\n",
              "        text-align: right;\n",
              "    }\n",
              "</style>\n",
              "<table border=\"1\" class=\"dataframe\">\n",
              "  <thead>\n",
              "    <tr style=\"text-align: right;\">\n",
              "      <th></th>\n",
              "      <th>date</th>\n",
              "      <th>state</th>\n",
              "      <th>city</th>\n",
              "      <th>place_type</th>\n",
              "      <th>confirmed</th>\n",
              "      <th>deaths</th>\n",
              "      <th>order_for_place</th>\n",
              "      <th>is_last</th>\n",
              "      <th>estimated_population_2019</th>\n",
              "      <th>estimated_population</th>\n",
              "      <th>city_ibge_code</th>\n",
              "      <th>confirmed_per_100k_inhabitants</th>\n",
              "      <th>death_rate</th>\n",
              "    </tr>\n",
              "  </thead>\n",
              "  <tbody>\n",
              "    <tr>\n",
              "      <th>0</th>\n",
              "      <td>2021-09-22</td>\n",
              "      <td>AP</td>\n",
              "      <td>NaN</td>\n",
              "      <td>state</td>\n",
              "      <td>122726</td>\n",
              "      <td>1975</td>\n",
              "      <td>548</td>\n",
              "      <td>True</td>\n",
              "      <td>845731.0</td>\n",
              "      <td>861773.0</td>\n",
              "      <td>16.0</td>\n",
              "      <td>14241.10526</td>\n",
              "      <td>0.0161</td>\n",
              "    </tr>\n",
              "    <tr>\n",
              "      <th>1</th>\n",
              "      <td>2021-09-21</td>\n",
              "      <td>AP</td>\n",
              "      <td>NaN</td>\n",
              "      <td>state</td>\n",
              "      <td>122704</td>\n",
              "      <td>1972</td>\n",
              "      <td>547</td>\n",
              "      <td>False</td>\n",
              "      <td>845731.0</td>\n",
              "      <td>861773.0</td>\n",
              "      <td>16.0</td>\n",
              "      <td>14238.55238</td>\n",
              "      <td>0.0161</td>\n",
              "    </tr>\n",
              "    <tr>\n",
              "      <th>2</th>\n",
              "      <td>2021-09-20</td>\n",
              "      <td>AP</td>\n",
              "      <td>NaN</td>\n",
              "      <td>state</td>\n",
              "      <td>122677</td>\n",
              "      <td>1970</td>\n",
              "      <td>546</td>\n",
              "      <td>False</td>\n",
              "      <td>845731.0</td>\n",
              "      <td>861773.0</td>\n",
              "      <td>16.0</td>\n",
              "      <td>14235.41930</td>\n",
              "      <td>0.0161</td>\n",
              "    </tr>\n",
              "    <tr>\n",
              "      <th>3</th>\n",
              "      <td>2021-09-19</td>\n",
              "      <td>AP</td>\n",
              "      <td>NaN</td>\n",
              "      <td>state</td>\n",
              "      <td>122669</td>\n",
              "      <td>1969</td>\n",
              "      <td>545</td>\n",
              "      <td>False</td>\n",
              "      <td>845731.0</td>\n",
              "      <td>861773.0</td>\n",
              "      <td>16.0</td>\n",
              "      <td>14234.49099</td>\n",
              "      <td>0.0161</td>\n",
              "    </tr>\n",
              "    <tr>\n",
              "      <th>4</th>\n",
              "      <td>2021-09-18</td>\n",
              "      <td>AP</td>\n",
              "      <td>NaN</td>\n",
              "      <td>state</td>\n",
              "      <td>122664</td>\n",
              "      <td>1969</td>\n",
              "      <td>544</td>\n",
              "      <td>False</td>\n",
              "      <td>845731.0</td>\n",
              "      <td>861773.0</td>\n",
              "      <td>16.0</td>\n",
              "      <td>14233.91079</td>\n",
              "      <td>0.0161</td>\n",
              "    </tr>\n",
              "  </tbody>\n",
              "</table>\n",
              "</div>"
            ],
            "text/plain": [
              "         date state  ... confirmed_per_100k_inhabitants death_rate\n",
              "0  2021-09-22    AP  ...                    14241.10526     0.0161\n",
              "1  2021-09-21    AP  ...                    14238.55238     0.0161\n",
              "2  2021-09-20    AP  ...                    14235.41930     0.0161\n",
              "3  2021-09-19    AP  ...                    14234.49099     0.0161\n",
              "4  2021-09-18    AP  ...                    14233.91079     0.0161\n",
              "\n",
              "[5 rows x 13 columns]"
            ]
          },
          "metadata": {},
          "execution_count": 4
        }
      ]
    },
    {
      "cell_type": "code",
      "metadata": {
        "id": "A_3-98IqKGa9"
      },
      "source": [
        "df_MG = df.loc[df['state'] == 'MG']"
      ],
      "execution_count": 5,
      "outputs": []
    },
    {
      "cell_type": "code",
      "metadata": {
        "colab": {
          "base_uri": "https://localhost:8080/",
          "height": 307
        },
        "id": "H3S6VVo7KLaJ",
        "outputId": "c778a7e8-4d7f-4591-86dd-89e5dcb8d63b"
      },
      "source": [
        "df_MG.tail()"
      ],
      "execution_count": 6,
      "outputs": [
        {
          "output_type": "execute_result",
          "data": {
            "text/html": [
              "<div>\n",
              "<style scoped>\n",
              "    .dataframe tbody tr th:only-of-type {\n",
              "        vertical-align: middle;\n",
              "    }\n",
              "\n",
              "    .dataframe tbody tr th {\n",
              "        vertical-align: top;\n",
              "    }\n",
              "\n",
              "    .dataframe thead th {\n",
              "        text-align: right;\n",
              "    }\n",
              "</style>\n",
              "<table border=\"1\" class=\"dataframe\">\n",
              "  <thead>\n",
              "    <tr style=\"text-align: right;\">\n",
              "      <th></th>\n",
              "      <th>date</th>\n",
              "      <th>state</th>\n",
              "      <th>city</th>\n",
              "      <th>place_type</th>\n",
              "      <th>confirmed</th>\n",
              "      <th>deaths</th>\n",
              "      <th>order_for_place</th>\n",
              "      <th>is_last</th>\n",
              "      <th>estimated_population_2019</th>\n",
              "      <th>estimated_population</th>\n",
              "      <th>city_ibge_code</th>\n",
              "      <th>confirmed_per_100k_inhabitants</th>\n",
              "      <th>death_rate</th>\n",
              "    </tr>\n",
              "  </thead>\n",
              "  <tbody>\n",
              "    <tr>\n",
              "      <th>1024713</th>\n",
              "      <td>2020-05-24</td>\n",
              "      <td>MG</td>\n",
              "      <td>Águas Vermelhas</td>\n",
              "      <td>city</td>\n",
              "      <td>2</td>\n",
              "      <td>0</td>\n",
              "      <td>5</td>\n",
              "      <td>False</td>\n",
              "      <td>13539.0</td>\n",
              "      <td>13599.0</td>\n",
              "      <td>3101003.0</td>\n",
              "      <td>14.70696</td>\n",
              "      <td>0.0</td>\n",
              "    </tr>\n",
              "    <tr>\n",
              "      <th>1024714</th>\n",
              "      <td>2020-05-23</td>\n",
              "      <td>MG</td>\n",
              "      <td>Águas Vermelhas</td>\n",
              "      <td>city</td>\n",
              "      <td>2</td>\n",
              "      <td>0</td>\n",
              "      <td>4</td>\n",
              "      <td>False</td>\n",
              "      <td>13539.0</td>\n",
              "      <td>13599.0</td>\n",
              "      <td>3101003.0</td>\n",
              "      <td>14.70696</td>\n",
              "      <td>0.0</td>\n",
              "    </tr>\n",
              "    <tr>\n",
              "      <th>1024715</th>\n",
              "      <td>2020-05-22</td>\n",
              "      <td>MG</td>\n",
              "      <td>Águas Vermelhas</td>\n",
              "      <td>city</td>\n",
              "      <td>2</td>\n",
              "      <td>0</td>\n",
              "      <td>3</td>\n",
              "      <td>False</td>\n",
              "      <td>13539.0</td>\n",
              "      <td>13599.0</td>\n",
              "      <td>3101003.0</td>\n",
              "      <td>14.70696</td>\n",
              "      <td>0.0</td>\n",
              "    </tr>\n",
              "    <tr>\n",
              "      <th>1024716</th>\n",
              "      <td>2020-05-21</td>\n",
              "      <td>MG</td>\n",
              "      <td>Águas Vermelhas</td>\n",
              "      <td>city</td>\n",
              "      <td>2</td>\n",
              "      <td>0</td>\n",
              "      <td>2</td>\n",
              "      <td>False</td>\n",
              "      <td>13539.0</td>\n",
              "      <td>13599.0</td>\n",
              "      <td>3101003.0</td>\n",
              "      <td>14.70696</td>\n",
              "      <td>0.0</td>\n",
              "    </tr>\n",
              "    <tr>\n",
              "      <th>1024717</th>\n",
              "      <td>2020-05-20</td>\n",
              "      <td>MG</td>\n",
              "      <td>Águas Vermelhas</td>\n",
              "      <td>city</td>\n",
              "      <td>2</td>\n",
              "      <td>0</td>\n",
              "      <td>1</td>\n",
              "      <td>False</td>\n",
              "      <td>13539.0</td>\n",
              "      <td>13599.0</td>\n",
              "      <td>3101003.0</td>\n",
              "      <td>14.70696</td>\n",
              "      <td>0.0</td>\n",
              "    </tr>\n",
              "  </tbody>\n",
              "</table>\n",
              "</div>"
            ],
            "text/plain": [
              "               date state  ... confirmed_per_100k_inhabitants death_rate\n",
              "1024713  2020-05-24    MG  ...                       14.70696        0.0\n",
              "1024714  2020-05-23    MG  ...                       14.70696        0.0\n",
              "1024715  2020-05-22    MG  ...                       14.70696        0.0\n",
              "1024716  2020-05-21    MG  ...                       14.70696        0.0\n",
              "1024717  2020-05-20    MG  ...                       14.70696        0.0\n",
              "\n",
              "[5 rows x 13 columns]"
            ]
          },
          "metadata": {},
          "execution_count": 6
        }
      ]
    },
    {
      "cell_type": "code",
      "metadata": {
        "id": "emY0ZFPHK16s"
      },
      "source": [
        "df  = df_MG[['date','deaths']]"
      ],
      "execution_count": 10,
      "outputs": []
    },
    {
      "cell_type": "code",
      "metadata": {
        "colab": {
          "base_uri": "https://localhost:8080/",
          "height": 665
        },
        "id": "R5OykXCgLgST",
        "outputId": "abf2fdf3-a0ac-4653-fc46-68726168028c"
      },
      "source": [
        "df.head(20)"
      ],
      "execution_count": 13,
      "outputs": [
        {
          "output_type": "execute_result",
          "data": {
            "text/html": [
              "<div>\n",
              "<style scoped>\n",
              "    .dataframe tbody tr th:only-of-type {\n",
              "        vertical-align: middle;\n",
              "    }\n",
              "\n",
              "    .dataframe tbody tr th {\n",
              "        vertical-align: top;\n",
              "    }\n",
              "\n",
              "    .dataframe thead th {\n",
              "        text-align: right;\n",
              "    }\n",
              "</style>\n",
              "<table border=\"1\" class=\"dataframe\">\n",
              "  <thead>\n",
              "    <tr style=\"text-align: right;\">\n",
              "      <th></th>\n",
              "      <th>date</th>\n",
              "      <th>deaths</th>\n",
              "    </tr>\n",
              "  </thead>\n",
              "  <tbody>\n",
              "    <tr>\n",
              "      <th>725963</th>\n",
              "      <td>2021-09-22</td>\n",
              "      <td>54162</td>\n",
              "    </tr>\n",
              "    <tr>\n",
              "      <th>725964</th>\n",
              "      <td>2021-09-21</td>\n",
              "      <td>54095</td>\n",
              "    </tr>\n",
              "    <tr>\n",
              "      <th>725965</th>\n",
              "      <td>2021-09-20</td>\n",
              "      <td>54085</td>\n",
              "    </tr>\n",
              "    <tr>\n",
              "      <th>725966</th>\n",
              "      <td>2021-09-19</td>\n",
              "      <td>54080</td>\n",
              "    </tr>\n",
              "    <tr>\n",
              "      <th>725967</th>\n",
              "      <td>2021-09-18</td>\n",
              "      <td>54023</td>\n",
              "    </tr>\n",
              "    <tr>\n",
              "      <th>725968</th>\n",
              "      <td>2021-09-17</td>\n",
              "      <td>53971</td>\n",
              "    </tr>\n",
              "    <tr>\n",
              "      <th>725969</th>\n",
              "      <td>2021-09-16</td>\n",
              "      <td>53899</td>\n",
              "    </tr>\n",
              "    <tr>\n",
              "      <th>725970</th>\n",
              "      <td>2021-09-15</td>\n",
              "      <td>53845</td>\n",
              "    </tr>\n",
              "    <tr>\n",
              "      <th>725971</th>\n",
              "      <td>2021-09-14</td>\n",
              "      <td>53732</td>\n",
              "    </tr>\n",
              "    <tr>\n",
              "      <th>725972</th>\n",
              "      <td>2021-09-13</td>\n",
              "      <td>53698</td>\n",
              "    </tr>\n",
              "    <tr>\n",
              "      <th>725973</th>\n",
              "      <td>2021-09-12</td>\n",
              "      <td>53681</td>\n",
              "    </tr>\n",
              "    <tr>\n",
              "      <th>725974</th>\n",
              "      <td>2021-09-11</td>\n",
              "      <td>53611</td>\n",
              "    </tr>\n",
              "    <tr>\n",
              "      <th>725975</th>\n",
              "      <td>2021-09-10</td>\n",
              "      <td>53525</td>\n",
              "    </tr>\n",
              "    <tr>\n",
              "      <th>725976</th>\n",
              "      <td>2021-09-09</td>\n",
              "      <td>53424</td>\n",
              "    </tr>\n",
              "    <tr>\n",
              "      <th>725977</th>\n",
              "      <td>2021-09-08</td>\n",
              "      <td>53407</td>\n",
              "    </tr>\n",
              "    <tr>\n",
              "      <th>725978</th>\n",
              "      <td>2021-09-07</td>\n",
              "      <td>53386</td>\n",
              "    </tr>\n",
              "    <tr>\n",
              "      <th>725979</th>\n",
              "      <td>2021-09-06</td>\n",
              "      <td>53323</td>\n",
              "    </tr>\n",
              "    <tr>\n",
              "      <th>725980</th>\n",
              "      <td>2021-09-05</td>\n",
              "      <td>53323</td>\n",
              "    </tr>\n",
              "    <tr>\n",
              "      <th>725981</th>\n",
              "      <td>2021-09-04</td>\n",
              "      <td>53323</td>\n",
              "    </tr>\n",
              "    <tr>\n",
              "      <th>725982</th>\n",
              "      <td>2021-09-03</td>\n",
              "      <td>53244</td>\n",
              "    </tr>\n",
              "  </tbody>\n",
              "</table>\n",
              "</div>"
            ],
            "text/plain": [
              "              date  deaths\n",
              "725963  2021-09-22   54162\n",
              "725964  2021-09-21   54095\n",
              "725965  2021-09-20   54085\n",
              "725966  2021-09-19   54080\n",
              "725967  2021-09-18   54023\n",
              "725968  2021-09-17   53971\n",
              "725969  2021-09-16   53899\n",
              "725970  2021-09-15   53845\n",
              "725971  2021-09-14   53732\n",
              "725972  2021-09-13   53698\n",
              "725973  2021-09-12   53681\n",
              "725974  2021-09-11   53611\n",
              "725975  2021-09-10   53525\n",
              "725976  2021-09-09   53424\n",
              "725977  2021-09-08   53407\n",
              "725978  2021-09-07   53386\n",
              "725979  2021-09-06   53323\n",
              "725980  2021-09-05   53323\n",
              "725981  2021-09-04   53323\n",
              "725982  2021-09-03   53244"
            ]
          },
          "metadata": {},
          "execution_count": 13
        }
      ]
    },
    {
      "cell_type": "code",
      "metadata": {
        "colab": {
          "base_uri": "https://localhost:8080/"
        },
        "id": "BUjUrSJTMLaR",
        "outputId": "4f681ddf-9580-42c9-92cb-1779afb9f699"
      },
      "source": [
        "df['deaths'].values.shape"
      ],
      "execution_count": 17,
      "outputs": [
        {
          "output_type": "execute_result",
          "data": {
            "text/plain": [
              "(298755,)"
            ]
          },
          "metadata": {},
          "execution_count": 17
        }
      ]
    },
    {
      "cell_type": "code",
      "metadata": {
        "id": "uz_PnGrOKjK6"
      },
      "source": [
        "df_MG = df.groupby('date')['deaths'].sum().reset_index()"
      ],
      "execution_count": 18,
      "outputs": []
    },
    {
      "cell_type": "code",
      "metadata": {
        "colab": {
          "base_uri": "https://localhost:8080/",
          "height": 282
        },
        "id": "f4_g_jl3N0dH",
        "outputId": "7038f687-d8c0-4689-f11b-731074a1d6dd"
      },
      "source": [
        "plt.plot(df_MG['deaths'])"
      ],
      "execution_count": 22,
      "outputs": [
        {
          "output_type": "execute_result",
          "data": {
            "text/plain": [
              "[<matplotlib.lines.Line2D at 0x7f945b90b4d0>]"
            ]
          },
          "metadata": {},
          "execution_count": 22
        },
        {
          "output_type": "display_data",
          "data": {
            "image/png": "[encoded data removed]",
            "text/plain": [
              "<Figure size 432x288 with 1 Axes>"
            ]
          },
          "metadata": {
            "needs_background": "light"
          }
        }
      ]
    }
  ]
}